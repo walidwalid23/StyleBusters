{
 "cells": [
  {
   "cell_type": "code",
   "execution_count": 1,
   "id": "956bed2c",
   "metadata": {},
   "outputs": [
    {
     "name": "stdout",
     "output_type": "stream",
     "text": [
      "WARNING:tensorflow:Please fix your imports. Module tensorflow.python.training.tracking.data_structures has been moved to tensorflow.python.trackable.data_structures. The old module will be deleted in version 2.11.\n"
     ]
    }
   ],
   "source": [
    "import tensorflow as tf\n",
    "import tensorflow_hub as hub\n",
    "import numpy as np\n",
    "import os\n",
    "import pandas as pd\n",
    "import matplotlib.pyplot as plt \n",
    "import base64\n",
    "from PIL import Image\n",
    "import io\n",
    "import math \n",
    "from math import sqrt\n",
    "import requests\n",
    "import cv2\n",
    "import urllib.request\n",
    "%matplotlib inline\n",
    "\n",
    "global embed\n",
    "saved_model_path = 'E:\\Graduation Project\\Datasets\\PRE TRAINED MOBILE NET'\n",
    "embed = hub.KerasLayer(saved_model_path)"
   ]
  },
  {
   "cell_type": "markdown",
   "id": "2d04b6b5",
   "metadata": {},
   "source": [
    "## CONVERTING IMAGES TO FEATURE VECTORS (EMBEDDINGS)"
   ]
  },
  {
   "cell_type": "code",
   "execution_count": 2,
   "id": "4d1568a6",
   "metadata": {},
   "outputs": [],
   "source": [
    "class TensorVector(object):\n",
    "\n",
    "    def __init__(self, FileName=None):\n",
    "        self.FileName = FileName\n",
    "\n",
    "    def process(self):\n",
    "\n",
    "        img = tf.io.read_file(self.FileName)\n",
    "        img = tf.io.decode_jpeg(img, channels=3)\n",
    "        img = tf.image.resize_with_pad(img, 224, 224)\n",
    "        img = tf.image.convert_image_dtype(img,tf.float32)[tf.newaxis, ...]\n",
    "        features = embed(img)\n",
    "        feature_set = np.squeeze(features)\n",
    "        return list(feature_set)"
   ]
  },
  {
   "cell_type": "markdown",
   "id": "fe6e2b98",
   "metadata": {},
   "source": [
    "## function to find the cosine similarity between feature vectors"
   ]
  },
  {
   "cell_type": "code",
   "execution_count": 3,
   "id": "51583017",
   "metadata": {},
   "outputs": [],
   "source": [
    "def cosineSim(a1,a2):\n",
    "    sum = 0\n",
    "    suma1 = 0\n",
    "    sumb1 = 0\n",
    "    for i,j in zip(a1, a2):\n",
    "        suma1 += i * i\n",
    "        sumb1 += j*j\n",
    "        sum += i*j\n",
    "    cosine_sim = sum / ((sqrt(suma1))*(sqrt(sumb1)))\n",
    "    return cosine_sim"
   ]
  },
  {
   "cell_type": "markdown",
   "id": "ed587d95",
   "metadata": {},
   "source": [
    "## Path Of Main Uploaded Image"
   ]
  },
  {
   "cell_type": "code",
   "execution_count": 5,
   "id": "388871df",
   "metadata": {},
   "outputs": [
    {
     "data": {
      "text/plain": [
       "-1"
      ]
     },
     "execution_count": 5,
     "metadata": {},
     "output_type": "execute_result"
    }
   ],
   "source": [
    "logoImgPath = \"E:/Graduation Project/Datasets/WebScraping Logos/punaa.jpg\"\n",
    "\n",
    "logoImage = cv2.imread(logoImgPath, cv2.IMREAD_ANYCOLOR)  \n",
    "cv2.imshow(\"main logo\",logoImage)\n",
    "cv2.waitKey(0)"
   ]
  },
  {
   "cell_type": "markdown",
   "id": "1a0e8fcd",
   "metadata": {},
   "source": [
    "## getting feature vector of the main logo image"
   ]
  },
  {
   "cell_type": "code",
   "execution_count": 8,
   "id": "605ec6b5",
   "metadata": {},
   "outputs": [
    {
     "data": {
      "text/plain": [
       "1280"
      ]
     },
     "execution_count": 8,
     "metadata": {},
     "output_type": "execute_result"
    }
   ],
   "source": [
    "helper = TensorVector(logoImgPath)\n",
    "vector1 = helper.process()\n",
    "len(vector1)"
   ]
  },
  {
   "cell_type": "markdown",
   "id": "b4700401",
   "metadata": {},
   "source": [
    "## getting feature vector of the retrieved logos images"
   ]
  },
  {
   "cell_type": "code",
   "execution_count": 10,
   "id": "ac8da5b4",
   "metadata": {
    "scrolled": true
   },
   "outputs": [
    {
     "name": "stdout",
     "output_type": "stream",
     "text": [
      "Page: 1 Cosine Similarity of The Main Image and Image: https://d1yjjnpx0p53s8.cloudfront.net/styles/logo-thumbnail/s3/082022/erzeni_shiyak_albaniya.jpg?SjPNVvGNx2U2AA5r4DNgv6Ho8616LsJq&itok=h-c7auM0 is: 54%\n",
      "Logo of KF Erzeni Shijak is a match\n",
      "Page: 1 Cosine Similarity of The Main Image and Image: https://d1yjjnpx0p53s8.cloudfront.net/styles/logo-thumbnail/s3/102021/d.png?0ZvbH8iRQxPV_l8gvPdLgcjatwVpsbVB&itok=cUdS2W6N is: 57%\n",
      "Logo of Digi Print  is a match\n",
      "Page: 1 Cosine Similarity of The Main Image and Image: https://d1yjjnpx0p53s8.cloudfront.net/styles/logo-thumbnail/s3/092021/lyuftetari_tirana_albaniya_old_logo.jpg?ZfessvDWdk9RcmHrQbr0CCxTTTxg20Zq&itok=GAljqkuV is: 52%\n",
      "Logo of Luftëtari Tiranë (1950&#039;s logo) is a match\n",
      "Page: 1 Cosine Similarity of The Main Image and Image: https://d1yjjnpx0p53s8.cloudfront.net/styles/logo-thumbnail/s3/092021/puna_girokastra_albaniya_old_logo.jpg?8QKDFq0.Em2DJJbvBtd_a6su..v6GqOL&itok=A3S8G1mO is: 96%\n",
      "Logo of Puna Gjirokastër (1950&#039;s logo) is a match\n",
      "Page: 1 Cosine Similarity of The Main Image and Image: https://d1yjjnpx0p53s8.cloudfront.net/styles/logo-thumbnail/s3/092021/puna_elbasan_albaniya_old_logo.jpg?aAjB5SuIsjEO_DSWm7e3xZBbGkKevizD&itok=rHAG4WhV is: 97%\n",
      "Logo of Puna Elbasan (1950&#039;s logo) is a match\n",
      "Page: 1 Cosine Similarity of The Main Image and Image: https://d1yjjnpx0p53s8.cloudfront.net/styles/logo-thumbnail/s3/092021/dinamo_durres_albaniya_old_logo.jpg?I1QYp44c4MTQ_5r7uFGBMsKQTmkTttVm&itok=Q8TfLpzF is: 64%\n",
      "Logo of Dinamo Durrës (1950&#039;s logo) is a match\n",
      "Page: 1 Cosine Similarity of The Main Image and Image: https://d1yjjnpx0p53s8.cloudfront.net/styles/logo-thumbnail/s3/092021/dinamo_shkoder_albaniya_old_logo.jpg?yT62kstAD0Mfv5TZ5n.OuyehbnYbCQL7&itok=uMBuEAg4 is: 64%\n",
      "Logo of Dinamo Shkodër (1950&#039;s logo) is a match\n",
      "Page: 1 Cosine Similarity of The Main Image and Image: https://d1yjjnpx0p53s8.cloudfront.net/styles/logo-thumbnail/s3/092021/dinamo_tirana_albaniya_old_logo.jpg?FrgJqL7Ljarswb.3tK.Td9Micd9mcu6m&itok=P4S2IEkh is: 56%\n",
      "Logo of Dinamo Tiranë (1950&#039;s logo) is a match\n",
      "Page: 1 Cosine Similarity of The Main Image and Image: https://d1yjjnpx0p53s8.cloudfront.net/styles/logo-thumbnail/s3/092021/puna_shkoder_albaniya_old_logo.jpg?rUKTK8uC_E.D6e_gupIxD0huoKf.UMYj&itok=XmdwPRxy is: 97%\n",
      "Logo of Puna Shkodër (1950&#039;s logo) is a match\n",
      "Page: 1 Cosine Similarity of The Main Image and Image: https://d1yjjnpx0p53s8.cloudfront.net/styles/logo-thumbnail/s3/092021/puna_berat_albaniya_old_logo.jpg?JpHGPdri4LHUnM42v3wOPmW_3KORM6Wp&itok=4h33tZ8o is: 98%\n",
      "Logo of Puna Berat (1950&#039;s logo) is a match\n",
      "Page: 1 Cosine Similarity of The Main Image and Image: https://d1yjjnpx0p53s8.cloudfront.net/styles/logo-thumbnail/s3/082021/kastrioti_kruya_albaniya.jpg?DSZiSNH2ir21tEe1lPjJ272zURCoYg6y&itok=mqz5zMKd is: 51%\n",
      "Logo of KS Kastrioti Kruje is a match\n"
     ]
    },
    {
     "ename": "KeyboardInterrupt",
     "evalue": "",
     "output_type": "error",
     "traceback": [
      "\u001b[1;31m---------------------------------------------------------------------------\u001b[0m",
      "\u001b[1;31mKeyboardInterrupt\u001b[0m                         Traceback (most recent call last)",
      "Cell \u001b[1;32mIn [10], line 33\u001b[0m\n\u001b[0;32m     31\u001b[0m     urllib\u001b[38;5;241m.\u001b[39mrequest\u001b[38;5;241m.\u001b[39murlretrieve(logoPath, \u001b[38;5;124m\"\u001b[39m\u001b[38;5;124mmatchedlogo\u001b[39m\u001b[38;5;124m\"\u001b[39m)\n\u001b[0;32m     32\u001b[0m     img \u001b[38;5;241m=\u001b[39m Image\u001b[38;5;241m.\u001b[39mopen(\u001b[38;5;124m\"\u001b[39m\u001b[38;5;124mmatchedlogo\u001b[39m\u001b[38;5;124m\"\u001b[39m)\n\u001b[1;32m---> 33\u001b[0m     \u001b[43mimg\u001b[49m\u001b[38;5;241;43m.\u001b[39;49m\u001b[43mshow\u001b[49m\u001b[43m(\u001b[49m\u001b[43m)\u001b[49m\n\u001b[0;32m     35\u001b[0m \u001b[38;5;28;01mif\u001b[39;00m lastPage \u001b[38;5;241m==\u001b[39m \u001b[38;5;241m0\u001b[39m:\n\u001b[0;32m     36\u001b[0m   isLastPage \u001b[38;5;241m=\u001b[39m \u001b[38;5;28;01mTrue\u001b[39;00m\n",
      "File \u001b[1;32mc:\\users\\dell\\appdata\\local\\programs\\python\\python39\\lib\\site-packages\\PIL\\Image.py:2259\u001b[0m, in \u001b[0;36mImage.show\u001b[1;34m(self, title)\u001b[0m\n\u001b[0;32m   2239\u001b[0m \u001b[38;5;28;01mdef\u001b[39;00m \u001b[38;5;21mshow\u001b[39m(\u001b[38;5;28mself\u001b[39m, title\u001b[38;5;241m=\u001b[39m\u001b[38;5;28;01mNone\u001b[39;00m):\n\u001b[0;32m   2240\u001b[0m     \u001b[38;5;124;03m\"\"\"\u001b[39;00m\n\u001b[0;32m   2241\u001b[0m \u001b[38;5;124;03m    Displays this image. This method is mainly intended for debugging purposes.\u001b[39;00m\n\u001b[0;32m   2242\u001b[0m \n\u001b[1;32m   (...)\u001b[0m\n\u001b[0;32m   2256\u001b[0m \u001b[38;5;124;03m    :param title: Optional title to use for the image window, where possible.\u001b[39;00m\n\u001b[0;32m   2257\u001b[0m \u001b[38;5;124;03m    \"\"\"\u001b[39;00m\n\u001b[1;32m-> 2259\u001b[0m     \u001b[43m_show\u001b[49m\u001b[43m(\u001b[49m\u001b[38;5;28;43mself\u001b[39;49m\u001b[43m,\u001b[49m\u001b[43m \u001b[49m\u001b[43mtitle\u001b[49m\u001b[38;5;241;43m=\u001b[39;49m\u001b[43mtitle\u001b[49m\u001b[43m)\u001b[49m\n",
      "File \u001b[1;32mc:\\users\\dell\\appdata\\local\\programs\\python\\python39\\lib\\site-packages\\PIL\\Image.py:3233\u001b[0m, in \u001b[0;36m_show\u001b[1;34m(image, **options)\u001b[0m\n\u001b[0;32m   3230\u001b[0m \u001b[38;5;28;01mdef\u001b[39;00m \u001b[38;5;21m_show\u001b[39m(image, \u001b[38;5;241m*\u001b[39m\u001b[38;5;241m*\u001b[39moptions):\n\u001b[0;32m   3231\u001b[0m     \u001b[38;5;28;01mfrom\u001b[39;00m \u001b[38;5;21;01m.\u001b[39;00m \u001b[38;5;28;01mimport\u001b[39;00m ImageShow\n\u001b[1;32m-> 3233\u001b[0m     ImageShow\u001b[38;5;241m.\u001b[39mshow(image, \u001b[38;5;241m*\u001b[39m\u001b[38;5;241m*\u001b[39moptions)\n",
      "File \u001b[1;32mc:\\users\\dell\\appdata\\local\\programs\\python\\python39\\lib\\site-packages\\PIL\\ImageShow.py:55\u001b[0m, in \u001b[0;36mshow\u001b[1;34m(image, title, **options)\u001b[0m\n\u001b[0;32m     46\u001b[0m \u001b[38;5;124mr\u001b[39m\u001b[38;5;124;03m\"\"\"\u001b[39;00m\n\u001b[0;32m     47\u001b[0m \u001b[38;5;124;03mDisplay a given image.\u001b[39;00m\n\u001b[0;32m     48\u001b[0m \n\u001b[1;32m   (...)\u001b[0m\n\u001b[0;32m     52\u001b[0m \u001b[38;5;124;03m:returns: ``True`` if a suitable viewer was found, ``False`` otherwise.\u001b[39;00m\n\u001b[0;32m     53\u001b[0m \u001b[38;5;124;03m\"\"\"\u001b[39;00m\n\u001b[0;32m     54\u001b[0m \u001b[38;5;28;01mfor\u001b[39;00m viewer \u001b[38;5;129;01min\u001b[39;00m _viewers:\n\u001b[1;32m---> 55\u001b[0m     \u001b[38;5;28;01mif\u001b[39;00m viewer\u001b[38;5;241m.\u001b[39mshow(image, title\u001b[38;5;241m=\u001b[39mtitle, \u001b[38;5;241m*\u001b[39m\u001b[38;5;241m*\u001b[39moptions):\n\u001b[0;32m     56\u001b[0m         \u001b[38;5;28;01mreturn\u001b[39;00m \u001b[38;5;241m1\u001b[39m\n\u001b[0;32m     57\u001b[0m \u001b[38;5;28;01mreturn\u001b[39;00m \u001b[38;5;241m0\u001b[39m\n",
      "File \u001b[1;32mc:\\users\\dell\\appdata\\local\\programs\\python\\python39\\lib\\site-packages\\PIL\\ImageShow.py:79\u001b[0m, in \u001b[0;36mViewer.show\u001b[1;34m(self, image, **options)\u001b[0m\n\u001b[0;32m     76\u001b[0m     \u001b[38;5;28;01mif\u001b[39;00m image\u001b[38;5;241m.\u001b[39mmode \u001b[38;5;241m!=\u001b[39m base:\n\u001b[0;32m     77\u001b[0m         image \u001b[38;5;241m=\u001b[39m image\u001b[38;5;241m.\u001b[39mconvert(base)\n\u001b[1;32m---> 79\u001b[0m \u001b[38;5;28;01mreturn\u001b[39;00m \u001b[38;5;28mself\u001b[39m\u001b[38;5;241m.\u001b[39mshow_image(image, \u001b[38;5;241m*\u001b[39m\u001b[38;5;241m*\u001b[39moptions)\n",
      "File \u001b[1;32mc:\\users\\dell\\appdata\\local\\programs\\python\\python39\\lib\\site-packages\\PIL\\ImageShow.py:105\u001b[0m, in \u001b[0;36mViewer.show_image\u001b[1;34m(self, image, **options)\u001b[0m\n\u001b[0;32m    103\u001b[0m \u001b[38;5;28;01mdef\u001b[39;00m \u001b[38;5;21mshow_image\u001b[39m(\u001b[38;5;28mself\u001b[39m, image, \u001b[38;5;241m*\u001b[39m\u001b[38;5;241m*\u001b[39moptions):\n\u001b[0;32m    104\u001b[0m     \u001b[38;5;124;03m\"\"\"Display the given image.\"\"\"\u001b[39;00m\n\u001b[1;32m--> 105\u001b[0m     \u001b[38;5;28;01mreturn\u001b[39;00m \u001b[38;5;28mself\u001b[39m\u001b[38;5;241m.\u001b[39mshow_file(\u001b[38;5;28mself\u001b[39m\u001b[38;5;241m.\u001b[39msave_image(image), \u001b[38;5;241m*\u001b[39m\u001b[38;5;241m*\u001b[39moptions)\n",
      "File \u001b[1;32mc:\\users\\dell\\appdata\\local\\programs\\python\\python39\\lib\\site-packages\\PIL\\ImageShow.py:109\u001b[0m, in \u001b[0;36mViewer.show_file\u001b[1;34m(self, file, **options)\u001b[0m\n\u001b[0;32m    107\u001b[0m \u001b[38;5;28;01mdef\u001b[39;00m \u001b[38;5;21mshow_file\u001b[39m(\u001b[38;5;28mself\u001b[39m, file, \u001b[38;5;241m*\u001b[39m\u001b[38;5;241m*\u001b[39moptions):\n\u001b[0;32m    108\u001b[0m     \u001b[38;5;124;03m\"\"\"Display given file\"\"\"\u001b[39;00m\n\u001b[1;32m--> 109\u001b[0m     \u001b[43mos\u001b[49m\u001b[38;5;241;43m.\u001b[39;49m\u001b[43msystem\u001b[49m\u001b[43m(\u001b[49m\u001b[38;5;28;43mself\u001b[39;49m\u001b[38;5;241;43m.\u001b[39;49m\u001b[43mget_command\u001b[49m\u001b[43m(\u001b[49m\u001b[43mfile\u001b[49m\u001b[43m,\u001b[49m\u001b[43m \u001b[49m\u001b[38;5;241;43m*\u001b[39;49m\u001b[38;5;241;43m*\u001b[39;49m\u001b[43moptions\u001b[49m\u001b[43m)\u001b[49m\u001b[43m)\u001b[49m\n\u001b[0;32m    110\u001b[0m     \u001b[38;5;28;01mreturn\u001b[39;00m \u001b[38;5;241m1\u001b[39m\n",
      "\u001b[1;31mKeyboardInterrupt\u001b[0m: "
     ]
    }
   ],
   "source": [
    "country = \"al\"\n",
    "pageNumber = 1\n",
    "isLastPage = False\n",
    "\n",
    "while isLastPage != True:\n",
    "  URL = \"http://localhost/WalidLogosApi?country=\"+country+\"&pagenumber=\"+str(pageNumber)\n",
    "  response = requests.get(url = URL)\n",
    "  decodedResponse = response.json()\n",
    "  #data\n",
    "  companies = decodedResponse['companies']\n",
    "  logos = decodedResponse['logos']\n",
    "  lastPage = decodedResponse[\"lastPage\"]\n",
    "  #loop through data (both lists have the same length)\n",
    "  for i in range(len(companies)): \n",
    "    companyName = companies[i]\n",
    "    logoPath = logos[i]\n",
    "    # check if the logo Image path is hidden or not by the website (if not it starts with http)\n",
    "    if logoPath[0]!=\"h\":\n",
    "        #display default image\n",
    "        logoPath = \"E:/Graduation Project/Datasets/WebScraping Logos/hidden-logo.png\"\n",
    "    #extract features from each retrieved logo image\n",
    "    helper2 = TensorVector(logoPath)\n",
    "    vector2 = helper2.process()\n",
    "    # get the cosine similarity\n",
    "    cosine_similarity = cosineSim(vector1, vector2)\n",
    "    #display if similarity is above a certain limit\n",
    "    retrievedLogoImage = cv2.imread(logoPath, cv2.IMREAD_ANYCOLOR) \n",
    "    print(\"Page: \"+str(pageNumber)+\" Cosine Similarity of The Main Image and Image: \"+ logoPath + \" is: \"+ str(round(cosine_similarity*100))+\"%\")\n",
    "    if cosine_similarity > 0.90:\n",
    "      print(companyName + \" is a match\")\n",
    "      urllib.request.urlretrieve(logoPath, \"matchedlogo\")\n",
    "      img = Image.open(\"matchedlogo\")\n",
    "      img.show()\n",
    "  \n",
    "  if lastPage == 0:\n",
    "    isLastPage = True\n",
    "  #increment pages\n",
    "  pageNumber = pageNumber + 1\n",
    "\n",
    "\n",
    "\n"
   ]
  },
  {
   "cell_type": "code",
   "execution_count": null,
   "id": "6b8517b0",
   "metadata": {},
   "outputs": [],
   "source": []
  }
 ],
 "metadata": {
  "kernelspec": {
   "display_name": "Python 3 (ipykernel)",
   "language": "python",
   "name": "python3"
  },
  "language_info": {
   "codemirror_mode": {
    "name": "ipython",
    "version": 3
   },
   "file_extension": ".py",
   "mimetype": "text/x-python",
   "name": "python",
   "nbconvert_exporter": "python",
   "pygments_lexer": "ipython3",
   "version": "3.9.0"
  }
 },
 "nbformat": 4,
 "nbformat_minor": 5
}
