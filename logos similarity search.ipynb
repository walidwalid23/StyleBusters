{
 "cells": [
  {
   "cell_type": "code",
   "execution_count": 3,
   "id": "956bed2c",
   "metadata": {},
   "outputs": [
    {
     "name": "stdout",
     "output_type": "stream",
     "text": [
      "WARNING:tensorflow:Please fix your imports. Module tensorflow.python.training.tracking.data_structures has been moved to tensorflow.python.trackable.data_structures. The old module will be deleted in version 2.11.\n"
     ]
    }
   ],
   "source": [
    "import tensorflow as tf\n",
    "import tensorflow_hub as hub\n",
    "import numpy as np\n",
    "import os\n",
    "import pandas as pd\n",
    "import matplotlib.pyplot as plt \n",
    "import base64\n",
    "from PIL import Image\n",
    "import io\n",
    "import math \n",
    "from math import sqrt\n",
    "import requests\n",
    "import cv2\n",
    "import urllib.request\n",
    "%matplotlib inline\n",
    "\n",
    "global embed\n",
    "saved_model_path = 'E:\\Graduation Project\\Datasets\\PRE TRAINED MOBILE NET'\n",
    "embed = hub.KerasLayer(saved_model_path)"
   ]
  },
  {
   "cell_type": "markdown",
   "id": "2d04b6b5",
   "metadata": {},
   "source": [
    "## CONVERTING IMAGES TO FEATURE VECTORS (EMBEDDINGS)"
   ]
  },
  {
   "cell_type": "code",
   "execution_count": 4,
   "id": "4d1568a6",
   "metadata": {},
   "outputs": [],
   "source": [
    "class TensorVector(object):\n",
    "\n",
    "    def __init__(self, FileName=None):\n",
    "        self.FileName = FileName\n",
    "\n",
    "    def process(self):\n",
    "\n",
    "        img = tf.io.read_file(self.FileName)\n",
    "        img = tf.io.decode_jpeg(img, channels=3)\n",
    "        img = tf.image.resize_with_pad(img, 224, 224)\n",
    "        img = tf.image.convert_image_dtype(img,tf.float32)[tf.newaxis, ...]\n",
    "        features = embed(img)\n",
    "        feature_set = np.squeeze(features)\n",
    "        return list(feature_set)"
   ]
  },
  {
   "cell_type": "markdown",
   "id": "fe6e2b98",
   "metadata": {},
   "source": [
    "## function to find the cosine similarity between feature vectors"
   ]
  },
  {
   "cell_type": "code",
   "execution_count": 5,
   "id": "51583017",
   "metadata": {},
   "outputs": [],
   "source": [
    "def cosineSim(a1,a2):\n",
    "    sum = 0\n",
    "    suma1 = 0\n",
    "    sumb1 = 0\n",
    "    for i,j in zip(a1, a2):\n",
    "        suma1 += i * i\n",
    "        sumb1 += j*j\n",
    "        sum += i*j\n",
    "    cosine_sim = sum / ((sqrt(suma1))*(sqrt(sumb1)))\n",
    "    return cosine_sim"
   ]
  },
  {
   "cell_type": "markdown",
   "id": "ed587d95",
   "metadata": {},
   "source": [
    "## Path Of Main Uploaded Image"
   ]
  },
  {
   "cell_type": "code",
   "execution_count": 6,
   "id": "388871df",
   "metadata": {},
   "outputs": [
    {
     "data": {
      "text/plain": [
       "-1"
      ]
     },
     "execution_count": 6,
     "metadata": {},
     "output_type": "execute_result"
    }
   ],
   "source": [
    "logoImgPath = \"E:/Graduation Project/Datasets/WebScraping Logos/puna.jpg\"\n",
    "\n",
    "logoImage = cv2.imread(logoImgPath, cv2.IMREAD_ANYCOLOR)  \n",
    "cv2.imshow(\"main logo\",logoImage)\n",
    "cv2.waitKey(0)"
   ]
  },
  {
   "cell_type": "markdown",
   "id": "1a0e8fcd",
   "metadata": {},
   "source": [
    "## getting feature vector of the main logo image"
   ]
  },
  {
   "cell_type": "code",
   "execution_count": 7,
   "id": "605ec6b5",
   "metadata": {},
   "outputs": [
    {
     "data": {
      "text/plain": [
       "1280"
      ]
     },
     "execution_count": 7,
     "metadata": {},
     "output_type": "execute_result"
    }
   ],
   "source": [
    "helper = TensorVector(logoImgPath)\n",
    "vector1 = helper.process()\n",
    "len(vector1)"
   ]
  },
  {
   "cell_type": "markdown",
   "id": "b4700401",
   "metadata": {},
   "source": [
    "## getting feature vector of the retrieved logos images"
   ]
  },
  {
   "cell_type": "code",
   "execution_count": 10,
   "id": "ac8da5b4",
   "metadata": {
    "scrolled": true
   },
   "outputs": [
    {
     "name": "stdout",
     "output_type": "stream",
     "text": [
      "Page: 1 Cosine Similarity of The Main Image and Image: https://d1yjjnpx0p53s8.cloudfront.net/styles/logo-thumbnail/s3/082022/erzeni_shiyak_albaniya.jpg?SjPNVvGNx2U2AA5r4DNgv6Ho8616LsJq&itok=h-c7auM0 is: 54%\n",
      "Page: 1 Cosine Similarity of The Main Image and Image: https://d1yjjnpx0p53s8.cloudfront.net/styles/logo-thumbnail/s3/102021/d.png?0ZvbH8iRQxPV_l8gvPdLgcjatwVpsbVB&itok=cUdS2W6N is: 57%\n",
      "Page: 1 Cosine Similarity of The Main Image and Image: https://d1yjjnpx0p53s8.cloudfront.net/styles/logo-thumbnail/s3/092021/lyuftetari_tirana_albaniya_old_logo.jpg?ZfessvDWdk9RcmHrQbr0CCxTTTxg20Zq&itok=GAljqkuV is: 52%\n",
      "Page: 1 Cosine Similarity of The Main Image and Image: https://d1yjjnpx0p53s8.cloudfront.net/styles/logo-thumbnail/s3/092021/puna_girokastra_albaniya_old_logo.jpg?8QKDFq0.Em2DJJbvBtd_a6su..v6GqOL&itok=A3S8G1mO is: 96%\n",
      "Logo of Puna Gjirokastër (1950&#039;s logo) is a match\n",
      "Page: 1 Cosine Similarity of The Main Image and Image: https://d1yjjnpx0p53s8.cloudfront.net/styles/logo-thumbnail/s3/092021/puna_elbasan_albaniya_old_logo.jpg?aAjB5SuIsjEO_DSWm7e3xZBbGkKevizD&itok=rHAG4WhV is: 97%\n",
      "Logo of Puna Elbasan (1950&#039;s logo) is a match\n",
      "Page: 1 Cosine Similarity of The Main Image and Image: https://d1yjjnpx0p53s8.cloudfront.net/styles/logo-thumbnail/s3/092021/dinamo_durres_albaniya_old_logo.jpg?I1QYp44c4MTQ_5r7uFGBMsKQTmkTttVm&itok=Q8TfLpzF is: 64%\n",
      "Page: 1 Cosine Similarity of The Main Image and Image: https://d1yjjnpx0p53s8.cloudfront.net/styles/logo-thumbnail/s3/092021/dinamo_shkoder_albaniya_old_logo.jpg?yT62kstAD0Mfv5TZ5n.OuyehbnYbCQL7&itok=uMBuEAg4 is: 64%\n",
      "Page: 1 Cosine Similarity of The Main Image and Image: https://d1yjjnpx0p53s8.cloudfront.net/styles/logo-thumbnail/s3/092021/dinamo_tirana_albaniya_old_logo.jpg?FrgJqL7Ljarswb.3tK.Td9Micd9mcu6m&itok=P4S2IEkh is: 56%\n",
      "Page: 1 Cosine Similarity of The Main Image and Image: https://d1yjjnpx0p53s8.cloudfront.net/styles/logo-thumbnail/s3/092021/puna_shkoder_albaniya_old_logo.jpg?rUKTK8uC_E.D6e_gupIxD0huoKf.UMYj&itok=XmdwPRxy is: 97%\n",
      "Logo of Puna Shkodër (1950&#039;s logo) is a match\n",
      "Page: 1 Cosine Similarity of The Main Image and Image: https://d1yjjnpx0p53s8.cloudfront.net/styles/logo-thumbnail/s3/092021/puna_berat_albaniya_old_logo.jpg?JpHGPdri4LHUnM42v3wOPmW_3KORM6Wp&itok=4h33tZ8o is: 98%\n",
      "Logo of Puna Berat (1950&#039;s logo) is a match\n",
      "Page: 1 Cosine Similarity of The Main Image and Image: https://d1yjjnpx0p53s8.cloudfront.net/styles/logo-thumbnail/s3/082021/kastrioti_kruya_albaniya.jpg?DSZiSNH2ir21tEe1lPjJ272zURCoYg6y&itok=mqz5zMKd is: 51%\n",
      "Page: 1 Cosine Similarity of The Main Image and Image: https://d1yjjnpx0p53s8.cloudfront.net/styles/logo-thumbnail/s3/082021/dinamo_tirana_albaniya.jpg?SIsYVn_K4EtlqkYom6FgUHcdIq2734e5&itok=gB8ELNZH is: 61%\n",
      "Page: 1 Cosine Similarity of The Main Image and Image: https://d1yjjnpx0p53s8.cloudfront.net/styles/logo-thumbnail/s3/082021/egnatya_rogozhina_albaniya.jpg?gaA849bsUXLe01Dh5LgV2z01WNjjY.S_&itok=bPqqZwTc is: 64%\n",
      "Page: 1 Cosine Similarity of The Main Image and Image: https://d1yjjnpx0p53s8.cloudfront.net/styles/logo-thumbnail/s3/082021/partizani_tirana_albaniya.jpg?FXBiHY6tzLaFBjG81yKGx0aHD_EqCh4f&itok=efUhw9Jk is: 64%\n",
      "Page: 1 Cosine Similarity of The Main Image and Image: https://d1yjjnpx0p53s8.cloudfront.net/styles/logo-thumbnail/s3/062021/partizani_tirana_albaniya_old_logo.jpg?NKhpjldr0fW1AtQVpysVF6X9Su6jWNP4&itok=lFcZ81UX is: 57%\n",
      "Page: 1 Cosine Similarity of The Main Image and Image: https://d1yjjnpx0p53s8.cloudfront.net/styles/logo-thumbnail/s3/062021/spartaku_tirana_albaniya_old_logo.jpg?BkE1x_LQJwmk_kl9tcgM7XJxvTzgTEEa&itok=w37d2kvZ is: 56%\n",
      "Page: 1 Cosine Similarity of The Main Image and Image: https://d1yjjnpx0p53s8.cloudfront.net/styles/logo-thumbnail/s3/062021/puna_kavaya_albaniya_old_logo.jpg?oCMXQwm9AX51drcpNuxQAhpRnIlUOZW.&itok=vmq6uOfv is: 98%\n",
      "Logo of Puna Kavajë (1950&#039;s logo) is a match\n",
      "Page: 1 Cosine Similarity of The Main Image and Image: https://d1yjjnpx0p53s8.cloudfront.net/styles/logo-thumbnail/s3/062021/puna_durres_albaniya_old_logo.jpg?0YisXkDSFgj34ZJZPJneYw6R7LpFJ0C.&itok=6nLm7dcX is: 98%\n",
      "Logo of Puna Durrës (1950&#039;s logo) is a match\n",
      "Page: 1 Cosine Similarity of The Main Image and Image: https://d1yjjnpx0p53s8.cloudfront.net/styles/logo-thumbnail/s3/062021/puna_vlyora_albaniya_old_logo.jpg?RrZQ5Yg5M2VG.UlZ.xiO5VaC_MaqqK70&itok=289InRaL is: 100%\n",
      "Logo of Puna Vlorë (1950&#039;s logo) is a match\n",
      "Page: 1 Cosine Similarity of The Main Image and Image: https://d1yjjnpx0p53s8.cloudfront.net/styles/logo-thumbnail/s3/062021/puna_tirana_albaniya_old_logo.jpg?XmciwSg8ky674cR5AAwmtbKof_L0jSym&itok=ADgoTsk- is: 97%\n",
      "Logo of Puna Tirana (1950&#039;s logo) is a match\n",
      "Page: 1 Cosine Similarity of The Main Image and Image: https://d1yjjnpx0p53s8.cloudfront.net/styles/logo-thumbnail/s3/062021/puna_korcha_albaniya_old_logo.jpg?ggKFiEFHURWzg_4.A9htzp56IGuqUHEm&itok=hmqNtQlJ is: 98%\n",
      "Logo of Puna Korçë (1950&#039;s logo) is a match\n",
      "Page: 1 Cosine Similarity of The Main Image and Image: https://d1yjjnpx0p53s8.cloudfront.net/styles/logo-thumbnail/s3/012021/korabi_peshkopiya_albaniya_old_logo.jpg?48cFJ8m0Gsq7.EVTCnUHQ.FvSdxlL9Ns&itok=iIa4TYv6 is: 61%\n",
      "Page: 1 Cosine Similarity of The Main Image and Image: https://d1yjjnpx0p53s8.cloudfront.net/styles/logo-thumbnail/s3/112020/071b95431f720361569891aed6e6b2ba.jpg?B0DxRpKaqaAZHFuguyzIw2L7X9UG0n0Q&itok=QBG6Ujez is: 60%\n",
      "Page: 1 Cosine Similarity of The Main Image and Image: https://d1yjjnpx0p53s8.cloudfront.net/styles/logo-thumbnail/s3/092020/ivi.jpg?rcMPHqmMQGKGPQ20QinVntlwnjyZoAEB&itok=DMsJVuI5 is: 62%\n",
      "Page: 1 Cosine Similarity of The Main Image and Image: https://d1yjjnpx0p53s8.cloudfront.net/styles/logo-thumbnail/s3/092020/logo_mulliri_color_0.png?QoWukUkEhf2WTInYMCnzIK2hMhWMNAAE&itok=hfYwMheH is: 70%\n",
      "Page: 1 Cosine Similarity of The Main Image and Image: https://d1yjjnpx0p53s8.cloudfront.net/styles/logo-thumbnail/s3/092020/apoloniya_fieri_albaniya.jpg?iXgd5b.yhoZfbyFEPW25PuwIpA.5a9De&itok=tutkvK-1 is: 58%\n",
      "Page: 1 Cosine Similarity of The Main Image and Image: https://d1yjjnpx0p53s8.cloudfront.net/styles/logo-thumbnail/s3/052020/smart-building.jpg?BqcB.cCFU7VJTQzwGQQCLl_bBuA_Y8Wi&itok=oR7UZh_J is: 64%\n",
      "Page: 1 Cosine Similarity of The Main Image and Image: https://d1yjjnpx0p53s8.cloudfront.net/styles/logo-thumbnail/s3/072019/byulis_balsh_albaniya.jpg?JdYVZgef9UsouR0t0C0wGeH1Hl04GXeA&itok=Sx-cf3Ek is: 66%\n",
      "Page: 1 Cosine Similarity of The Main Image and Image: https://d1yjjnpx0p53s8.cloudfront.net/styles/logo-thumbnail/s3/062019/amy_traveltours.jpg?MWLxvoBOx8BJTlupf_1rgwMWwUGthQGW&itok=2-iKIjMh is: 62%\n",
      "Page: 1 Cosine Similarity of The Main Image and Image: https://d1yjjnpx0p53s8.cloudfront.net/styles/logo-thumbnail/s3/062019/albatrans-logo-310712.jpg?uLPloDfuAIImSCbYzEVco4lo_7ZokXl6&itok=5CuKCJvq is: 69%\n",
      "Page: 1 Cosine Similarity of The Main Image and Image: https://d1yjjnpx0p53s8.cloudfront.net/styles/logo-thumbnail/s3/042019/evaland_2019.jpg?25atA2UJ3z9xwprisf_2oADPWJKqZIhz&itok=w7TDKqvz is: 63%\n",
      "Page: 1 Cosine Similarity of The Main Image and Image: https://d1yjjnpx0p53s8.cloudfront.net/styles/logo-thumbnail/s3/042019/piperiroze.jpg?I6EhgZ3t8u5x1LoItuw_BxRqegZnhxP9&itok=9EoT0vkK is: 66%\n",
      "Page: 2 Cosine Similarity of The Main Image and Image: https://d1yjjnpx0p53s8.cloudfront.net/styles/logo-thumbnail/s3/012019/untitled-3_9.jpg?02PAjSEQ9hCZQXXj5L81mZJwiDU.BbaN&itok=ESn7XY3Q is: 69%\n",
      "Page: 2 Cosine Similarity of The Main Image and Image: https://d1yjjnpx0p53s8.cloudfront.net/styles/logo-thumbnail/s3/102018/untitled-1_4.png?B0JxVV3QvRRTHJW6uEtvsyAm.RcVCtVO&itok=3fAIwyuI is: 68%\n",
      "Page: 2 Cosine Similarity of The Main Image and Image: https://d1yjjnpx0p53s8.cloudfront.net/styles/logo-thumbnail/s3/052018/untitled-1_288.png?lRjeI6GNel1SpfVM.tTa7THAqHnemQ4v&itok=GFLGYYD4 is: 62%\n",
      "Page: 2 Cosine Similarity of The Main Image and Image: https://d1yjjnpx0p53s8.cloudfront.net/styles/logo-thumbnail/s3/052018/untitled-1_266.png?tpYWcTX5u5HIs5ayeqZkVV6XsHO_Yjgs&itok=M1D48CVL is: 78%\n",
      "Page: 2 Cosine Similarity of The Main Image and Image: https://d1yjjnpx0p53s8.cloudfront.net/styles/logo-thumbnail/s3/052018/untitled-1_260.png?73xB.M7qoS7UfpzHRBmrM9ZeC3rbSX0u&itok=5JRYKul4 is: 68%\n",
      "Page: 2 Cosine Similarity of The Main Image and Image: https://d1yjjnpx0p53s8.cloudfront.net/styles/logo-thumbnail/s3/052018/untitled-1_259.png?Oht.nUgX8iud4OC2DFOlTFlROxoPTToR&itok=RQ4RCrL- is: 70%\n",
      "Page: 2 Cosine Similarity of The Main Image and Image: https://d1yjjnpx0p53s8.cloudfront.net/styles/logo-thumbnail/s3/052018/untitled-1_258.png?ltOtNh7KD19QGZzTIkrT2RgsJeD.9Qlb&itok=2wYvdB4H is: 59%\n",
      "Page: 2 Cosine Similarity of The Main Image and Image: https://d1yjjnpx0p53s8.cloudfront.net/styles/logo-thumbnail/s3/052018/untitled-1_257.png?J3qEeoqUHlHkcalgVrgfExPNv5DQMYUZ&itok=Qf_fb9_m is: 63%\n",
      "Page: 2 Cosine Similarity of The Main Image and Image: https://d1yjjnpx0p53s8.cloudfront.net/styles/logo-thumbnail/s3/052018/untitled-1_255.png?S7NJ2.Ml0MbG6ONOEk86fT9cdFayjhk7&itok=46SFp2WJ is: 65%\n",
      "Page: 2 Cosine Similarity of The Main Image and Image: https://d1yjjnpx0p53s8.cloudfront.net/styles/logo-thumbnail/s3/052018/untitled-1_254.png?c.QlvACMJfI7b.mWzrMl3dPc7GVGh4xk&itok=tlp3E9KR is: 71%\n",
      "Page: 2 Cosine Similarity of The Main Image and Image: https://d1yjjnpx0p53s8.cloudfront.net/styles/logo-thumbnail/s3/052018/untitled-1_253.png?wNoVkjGIiGlpDvL7.UO_3PH07.E37zBw&itok=ILlOkLR5 is: 61%\n",
      "Page: 2 Cosine Similarity of The Main Image and Image: https://d1yjjnpx0p53s8.cloudfront.net/styles/logo-thumbnail/s3/052018/untitled-1_252.png?GZyopqVIw5cNsnX2wsGc8VgZg1yN.CZU&itok=8F61-W9a is: 62%\n",
      "Page: 2 Cosine Similarity of The Main Image and Image: https://d1yjjnpx0p53s8.cloudfront.net/styles/logo-thumbnail/s3/052018/untitled-1_248.png?hNRO8abcybmt4DPpqjlHLjcoKoNftrkH&itok=CiBpgo2U is: 68%\n",
      "Page: 2 Cosine Similarity of The Main Image and Image: https://d1yjjnpx0p53s8.cloudfront.net/styles/logo-thumbnail/s3/052018/untitled-1_245.png?Kdbi.N9ctXX7s5k_Ohqhty4QfmzEbrcT&itok=ZHyhr_Ue is: 70%\n",
      "Page: 2 Cosine Similarity of The Main Image and Image: https://d1yjjnpx0p53s8.cloudfront.net/styles/logo-thumbnail/s3/052018/untitled-1_244.png?xPV63bGNpWUOT8ebAwamx2rklYU41.Xt&itok=xbTgQpcb is: 59%\n",
      "Page: 2 Cosine Similarity of The Main Image and Image: https://d1yjjnpx0p53s8.cloudfront.net/styles/logo-thumbnail/s3/052018/untitled-1_243.png?GfkLyCLcwkZGo15JPJhYOPX6LxqlAuUZ&itok=-8w98vGE is: 65%\n",
      "Page: 2 Cosine Similarity of The Main Image and Image: https://d1yjjnpx0p53s8.cloudfront.net/styles/logo-thumbnail/s3/052018/untitled-1_242.png?gN_bBlvgpAyzzS7D7BGa1a9FJ53gQNVI&itok=ptWyTw5S is: 63%\n",
      "Page: 2 Cosine Similarity of The Main Image and Image: https://d1yjjnpx0p53s8.cloudfront.net/styles/logo-thumbnail/s3/052018/untitled-1_241.png?cxXDpXVvMP5tTD8W5q2iZ3azalC7wn34&itok=-ysePGah is: 66%\n",
      "Page: 2 Cosine Similarity of The Main Image and Image: https://d1yjjnpx0p53s8.cloudfront.net/styles/logo-thumbnail/s3/052018/untitled-1_240.png?klAsLAhtorfqBVSOeV2DyVUzOLybuNyt&itok=hGDqz51Q is: 62%\n",
      "Page: 2 Cosine Similarity of The Main Image and Image: https://d1yjjnpx0p53s8.cloudfront.net/styles/logo-thumbnail/s3/052018/untitled-1_239.png?vmkrCWPZRjtT_QUCXe0vauUH0ZIDv1n9&itok=1LMo7UQJ is: 69%\n",
      "Page: 2 Cosine Similarity of The Main Image and Image: https://d1yjjnpx0p53s8.cloudfront.net/styles/logo-thumbnail/s3/052018/untitled-1_238.png?mxoZzNJ0oV.O62kylLV6hD8qjk33JUwm&itok=99nkUu8s is: 61%\n",
      "Page: 2 Cosine Similarity of The Main Image and Image: https://d1yjjnpx0p53s8.cloudfront.net/styles/logo-thumbnail/s3/052018/untitled-1_234.png?ZubAS9cA.i6I_aBx1yxbiMY6oyJAfGkZ&itok=ODKJE5Rj is: 60%\n",
      "Page: 2 Cosine Similarity of The Main Image and Image: https://d1yjjnpx0p53s8.cloudfront.net/styles/logo-thumbnail/s3/042018/untitled-2_78.png?D7OFio3njdN43YqqXeN_FFRevMHDPwFb&itok=KW-IukY3 is: 56%\n",
      "Page: 2 Cosine Similarity of The Main Image and Image: https://d1yjjnpx0p53s8.cloudfront.net/styles/logo-thumbnail/s3/032018/untitled-1_110.png?skMZTxGSLBDr7vMIKjd7xmBNl3AKRFot&itok=-IJd5_Jo is: 68%\n",
      "Page: 2 Cosine Similarity of The Main Image and Image: https://d1yjjnpx0p53s8.cloudfront.net/styles/logo-thumbnail/s3/122017/untitled-1_191.png?YvHZF0XqpkWAh.rBG4mD0UKW35XzBAHv&itok=96-ir8Pc is: 71%\n",
      "Page: 2 Cosine Similarity of The Main Image and Image: https://d1yjjnpx0p53s8.cloudfront.net/styles/logo-thumbnail/s3/122017/untitled-1_161.png?udelk8phGHzP8t5Jltd9f0IjgnRRdM7q&itok=Vt6Wl5mj is: 67%\n",
      "Page: 2 Cosine Similarity of The Main Image and Image: https://d1yjjnpx0p53s8.cloudfront.net/styles/logo-thumbnail/s3/052017/untitled-1_8.png?itok=Jbh30U6w is: 64%\n",
      "Page: 2 Cosine Similarity of The Main Image and Image: https://d1yjjnpx0p53s8.cloudfront.net/styles/logo-thumbnail/s3/042017/kf_naftetari_kucove.gif?itok=vptoRk0n is: 48%\n",
      "Page: 2 Cosine Similarity of The Main Image and Image: https://d1yjjnpx0p53s8.cloudfront.net/styles/logo-thumbnail/s3/022017/klubi_sportiv_luftetari.gif?itok=qXwW9UfG is: 57%\n",
      "Page: 2 Cosine Similarity of The Main Image and Image: https://d1yjjnpx0p53s8.cloudfront.net/styles/logo-thumbnail/s3/022017/untitled-1_13.jpg?itok=oxSApNlD is: 63%\n",
      "Page: 2 Cosine Similarity of The Main Image and Image: https://d1yjjnpx0p53s8.cloudfront.net/styles/logo-thumbnail/s3/012017/korabi_peshkopiya_albaniya.jpg?itok=ezEFVN3a is: 59%\n",
      "Page: 2 Cosine Similarity of The Main Image and Image: https://d1yjjnpx0p53s8.cloudfront.net/styles/logo-thumbnail/s3/012017/kukesi_kukes_albaniya.jpg?itok=_dlOWc_U is: 56%\n",
      "Page: 3 Cosine Similarity of The Main Image and Image: https://d1yjjnpx0p53s8.cloudfront.net/styles/logo-thumbnail/s3/012017/egnatya_rogozhina_albaniya_old_logo.jpg?itok=seWGXjzE is: 63%\n",
      "Page: 3 Cosine Similarity of The Main Image and Image: https://d1yjjnpx0p53s8.cloudfront.net/styles/logo-thumbnail/s3/012017/iliriya_fusha-kruya_albaniya_old_logo.jpg?itok=NAIc0bke is: 60%\n",
      "Page: 3 Cosine Similarity of The Main Image and Image: https://d1yjjnpx0p53s8.cloudfront.net/styles/logo-thumbnail/s3/012017/kastrioti_kruya_albaniya_old_logo2.jpg?itok=98vA1_Va is: 55%\n",
      "Page: 3 Cosine Similarity of The Main Image and Image: https://d1yjjnpx0p53s8.cloudfront.net/styles/logo-thumbnail/s3/012017/burreli_albaniya_old_logo2.jpg?itok=JJxtkN1S is: 67%\n",
      "Page: 3 Cosine Similarity of The Main Image and Image: https://d1yjjnpx0p53s8.cloudfront.net/styles/logo-thumbnail/s3/012017/31_korriku_burreli_albaniya_old_logo.jpg?itok=CpgWdreP is: 65%\n",
      "Page: 3 Cosine Similarity of The Main Image and Image: https://d1yjjnpx0p53s8.cloudfront.net/styles/logo-thumbnail/s3/012017/lyachi_lyach_albaniya_old_logo2.jpg?itok=_O7sU0gt is: 61%\n",
      "Page: 3 Cosine Similarity of The Main Image and Image: https://d1yjjnpx0p53s8.cloudfront.net/styles/logo-thumbnail/s3/012017/lyachi_lyach_albaniya_old_logo.jpg?itok=vjJe0nUa is: 52%\n",
      "Page: 3 Cosine Similarity of The Main Image and Image: https://d1yjjnpx0p53s8.cloudfront.net/styles/logo-thumbnail/s3/012017/sopoti_librazhd_albaniya_old_logo.jpg?itok=au0iT1Vz is: 66%\n",
      "Page: 3 Cosine Similarity of The Main Image and Image: https://d1yjjnpx0p53s8.cloudfront.net/styles/logo-thumbnail/s3/012017/byulis_balsh_albaniya.jpg?itok=xSqtAlg7 is: 63%\n",
      "Page: 3 Cosine Similarity of The Main Image and Image: https://d1yjjnpx0p53s8.cloudfront.net/styles/logo-thumbnail/s3/012017/shkumbini_pekin_albaniya.jpg?itok=scBVVplL is: 73%\n",
      "Page: 3 Cosine Similarity of The Main Image and Image: https://d1yjjnpx0p53s8.cloudfront.net/styles/logo-thumbnail/s3/012017/24_mayi_permeti_albaniya_old_logo.jpg?itok=pGcXTEBO is: 42%\n",
      "Page: 3 Cosine Similarity of The Main Image and Image: https://d1yjjnpx0p53s8.cloudfront.net/styles/logo-thumbnail/s3/012017/tekstilisti_yuzberisht_albaniya_old_logo.jpg?itok=Ph8UNdGE is: 52%\n",
      "Page: 3 Cosine Similarity of The Main Image and Image: https://d1yjjnpx0p53s8.cloudfront.net/styles/logo-thumbnail/s3/012017/erzeni_shiyak_albaniya_old_logo2.jpg?itok=ncFiT_ZK is: 61%\n",
      "Page: 3 Cosine Similarity of The Main Image and Image: https://d1yjjnpx0p53s8.cloudfront.net/styles/logo-thumbnail/s3/012017/erzeni_shiyak_albaniya_old_logo.jpg?itok=E3SCr42G is: 60%\n",
      "Page: 3 Cosine Similarity of The Main Image and Image: https://d1yjjnpx0p53s8.cloudfront.net/styles/logo-thumbnail/s3/012017/yuli_i_kuk_pogradec_albaniya_old_logo.jpg?itok=Q53aCFJf is: 49%\n",
      "Page: 3 Cosine Similarity of The Main Image and Image: https://d1yjjnpx0p53s8.cloudfront.net/styles/logo-thumbnail/s3/012017/albpetrol_patos_albaniya_old_logo2.jpg?itok=8-M5cMKy is: 51%\n",
      "Page: 3 Cosine Similarity of The Main Image and Image: https://d1yjjnpx0p53s8.cloudfront.net/styles/logo-thumbnail/s3/012017/punetori_patos_albaniya_old_logo.jpg?itok=DP2DtlNw is: 44%\n",
      "Page: 3 Cosine Similarity of The Main Image and Image: https://d1yjjnpx0p53s8.cloudfront.net/styles/logo-thumbnail/s3/012017/naftetari_kyuteti-stalin_albaniya_old_logo.jpg?itok=vIj7iL6D is: 55%\n",
      "Page: 3 Cosine Similarity of The Main Image and Image: https://d1yjjnpx0p53s8.cloudfront.net/styles/logo-thumbnail/s3/012017/studenti_tirana_albaniya_old_logo.jpg?itok=xrTfFyR9 is: 50%\n",
      "Page: 3 Cosine Similarity of The Main Image and Image: https://d1yjjnpx0p53s8.cloudfront.net/styles/logo-thumbnail/s3/012017/shkendiya_tirana_albaniya_old_logo2.jpg?itok=7JbrD5GZ is: 65%\n",
      "Page: 3 Cosine Similarity of The Main Image and Image: https://d1yjjnpx0p53s8.cloudfront.net/styles/logo-thumbnail/s3/012017/shkendiya_tirana_albaniya_old_logo.jpg?itok=tEJu3dcR is: 61%\n",
      "Page: 3 Cosine Similarity of The Main Image and Image: https://d1yjjnpx0p53s8.cloudfront.net/styles/logo-thumbnail/s3/012017/beselidya_lezha_albaniya.jpg?itok=mL9TbY2H is: 59%\n",
      "Page: 3 Cosine Similarity of The Main Image and Image: https://d1yjjnpx0p53s8.cloudfront.net/styles/logo-thumbnail/s3/012017/beselidya_lezha_albaniya_old_logo3.jpg?itok=lAKxGTzd is: 53%\n",
      "Page: 3 Cosine Similarity of The Main Image and Image: https://d1yjjnpx0p53s8.cloudfront.net/styles/logo-thumbnail/s3/012017/beselidya_lezha_albaniya_old_logo2.jpg?itok=X1GBjzm8 is: 55%\n",
      "Page: 3 Cosine Similarity of The Main Image and Image: https://d1yjjnpx0p53s8.cloudfront.net/styles/logo-thumbnail/s3/012017/beselidya_lezha_albaniya_old_logo.jpg?itok=HaldfnJb is: 71%\n",
      "Page: 3 Cosine Similarity of The Main Image and Image: https://d1yjjnpx0p53s8.cloudfront.net/styles/logo-thumbnail/s3/012017/apoloniya_fieri_albaniya_old_logo2.jpg?itok=X6WkAKKg is: 55%\n",
      "Page: 3 Cosine Similarity of The Main Image and Image: https://d1yjjnpx0p53s8.cloudfront.net/styles/logo-thumbnail/s3/012017/apolloniya_fieri_albaniya_old_logo.jpg?itok=hG7IJTxj is: 52%\n",
      "Page: 3 Cosine Similarity of The Main Image and Image: https://d1yjjnpx0p53s8.cloudfront.net/styles/logo-thumbnail/s3/012017/tomori_berat_albaniya.jpg?itok=Nklr2paM is: 53%\n",
      "Page: 3 Cosine Similarity of The Main Image and Image: https://d1yjjnpx0p53s8.cloudfront.net/styles/logo-thumbnail/s3/012017/tomori_berat_albaniya_old_logo2.jpg?itok=mn_dIc67 is: 72%\n",
      "Page: 3 Cosine Similarity of The Main Image and Image: https://d1yjjnpx0p53s8.cloudfront.net/styles/logo-thumbnail/s3/012017/tomori_berat_albaniya_old_logo.jpg?itok=IOgeaY97 is: 61%\n",
      "Page: 3 Cosine Similarity of The Main Image and Image: https://d1yjjnpx0p53s8.cloudfront.net/styles/logo-thumbnail/s3/012017/lyushnya_albaniya_old_logo5.jpg?itok=p2CGqtBN is: 58%\n",
      "Page: 3 Cosine Similarity of The Main Image and Image: https://d1yjjnpx0p53s8.cloudfront.net/styles/logo-thumbnail/s3/012017/lyushnya_albaniya_old_logo4.jpg?itok=dMDtNzIf is: 57%\n",
      "Page: 4 Cosine Similarity of The Main Image and Image: https://d1yjjnpx0p53s8.cloudfront.net/styles/logo-thumbnail/s3/012017/traktori_lyushnya_albaniya_old_logo3.jpg?itok=6Lr1xg1V is: 52%\n",
      "Page: 4 Cosine Similarity of The Main Image and Image: https://d1yjjnpx0p53s8.cloudfront.net/styles/logo-thumbnail/s3/012017/traktori_lyushnya_albaniya_old_logo2.jpg?itok=arObrHhQ is: 50%\n",
      "Page: 4 Cosine Similarity of The Main Image and Image: https://d1yjjnpx0p53s8.cloudfront.net/styles/logo-thumbnail/s3/012017/traktori_lyushnya_albaniya_old_logo.jpg?itok=FxSFWpcB is: 65%\n",
      "Page: 4 Cosine Similarity of The Main Image and Image: https://d1yjjnpx0p53s8.cloudfront.net/styles/logo-thumbnail/s3/012017/shkiponya_girokastra_albaniya_old_logo4.jpg?itok=iBAC0taC is: 67%\n",
      "Page: 4 Cosine Similarity of The Main Image and Image: https://d1yjjnpx0p53s8.cloudfront.net/styles/logo-thumbnail/s3/012017/lyuftetari_girokastra_albaniya_old_logo3.jpg?itok=W7PxiLwp is: 58%\n",
      "Page: 4 Cosine Similarity of The Main Image and Image: https://d1yjjnpx0p53s8.cloudfront.net/styles/logo-thumbnail/s3/012017/lyuftetari_girokastra_albaniya_old_logo2.jpg?itok=21adHu2Y is: 52%\n",
      "Page: 4 Cosine Similarity of The Main Image and Image: https://d1yjjnpx0p53s8.cloudfront.net/styles/logo-thumbnail/s3/012017/lyuftetari_girokastra_albaniya_old_logo.jpg?itok=ziMSU3F- is: 56%\n",
      "Page: 4 Cosine Similarity of The Main Image and Image: https://d1yjjnpx0p53s8.cloudfront.net/styles/logo-thumbnail/s3/012017/flyamurtari_vlyora_albaniya.jpg?itok=laWSe_Vm is: 45%\n",
      "Page: 4 Cosine Similarity of The Main Image and Image: https://d1yjjnpx0p53s8.cloudfront.net/styles/logo-thumbnail/s3/012017/flyamurtari_vlyora_albaniya_old_logo4.jpg?itok=kGwTmESK is: 54%\n",
      "Page: 4 Cosine Similarity of The Main Image and Image: https://d1yjjnpx0p53s8.cloudfront.net/styles/logo-thumbnail/s3/012017/flyamurtari_vlyora_albaniya_old_logo3.jpg?itok=ruk-nHbe is: 59%\n",
      "Page: 4 Cosine Similarity of The Main Image and Image: https://d1yjjnpx0p53s8.cloudfront.net/styles/logo-thumbnail/s3/012017/flyamurtari_vlyora_albaniya_old_logo2.jpg?itok=65saON6R is: 64%\n",
      "Page: 4 Cosine Similarity of The Main Image and Image: https://d1yjjnpx0p53s8.cloudfront.net/styles/logo-thumbnail/s3/012017/flyamurtari_vlyora_albaniya_old_logo.jpg?itok=fRqWb7XQ is: 72%\n",
      "Page: 4 Cosine Similarity of The Main Image and Image: https://d1yjjnpx0p53s8.cloudfront.net/styles/logo-thumbnail/s3/012017/skenderbeu_korcha_albaniya_old_logo2.jpg?itok=hs9-bQwJ is: 57%\n",
      "Page: 4 Cosine Similarity of The Main Image and Image: https://d1yjjnpx0p53s8.cloudfront.net/styles/logo-thumbnail/s3/012017/skenderbeu_korcha_albaniya_old_logo.jpg?itok=Q8oQDbKx is: 61%\n",
      "Page: 4 Cosine Similarity of The Main Image and Image: https://d1yjjnpx0p53s8.cloudfront.net/styles/logo-thumbnail/s3/012017/partizani_tirana_albaniya_old_logo5.jpg?itok=mXQyu3Wz is: 68%\n",
      "Page: 4 Cosine Similarity of The Main Image and Image: https://d1yjjnpx0p53s8.cloudfront.net/styles/logo-thumbnail/s3/012017/partizani_tirana_albaniya_old_logo4.jpg?itok=SIEeThna is: 54%\n",
      "Page: 4 Cosine Similarity of The Main Image and Image: https://d1yjjnpx0p53s8.cloudfront.net/styles/logo-thumbnail/s3/012017/partizani_tirana_albaniya_old_logo2.jpg?itok=nSkE4ZE1 is: 58%\n",
      "Page: 4 Cosine Similarity of The Main Image and Image: https://d1yjjnpx0p53s8.cloudfront.net/styles/logo-thumbnail/s3/012017/partizani_tirana_albaniya_old_logo.jpg?itok=Qa-b29rC is: 58%\n",
      "Page: 4 Cosine Similarity of The Main Image and Image: https://d1yjjnpx0p53s8.cloudfront.net/styles/logo-thumbnail/s3/012017/besa_kavaya_albaniya_old_logo6.jpg?itok=Dbqc-iNa is: 61%\n",
      "Page: 4 Cosine Similarity of The Main Image and Image: https://d1yjjnpx0p53s8.cloudfront.net/styles/logo-thumbnail/s3/012017/besa_kavaya_albaniya_old_logo5.jpg?itok=dVHQNDbD is: 54%\n",
      "Page: 4 Cosine Similarity of The Main Image and Image: https://d1yjjnpx0p53s8.cloudfront.net/styles/logo-thumbnail/s3/012017/besa_kavaya_albaniya_old_logo4.jpg?itok=d7agLqBQ is: 62%\n",
      "Page: 4 Cosine Similarity of The Main Image and Image: https://d1yjjnpx0p53s8.cloudfront.net/styles/logo-thumbnail/s3/012017/besa_kavaya_albaniya_old_logo2.jpg?itok=Fmm9PovK is: 56%\n",
      "Page: 4 Cosine Similarity of The Main Image and Image: https://d1yjjnpx0p53s8.cloudfront.net/styles/logo-thumbnail/s3/012017/besa_kavaya_albaniya_old_logo.jpg?itok=rBK9PZiF is: 63%\n",
      "Page: 4 Cosine Similarity of The Main Image and Image: https://d1yjjnpx0p53s8.cloudfront.net/styles/logo-thumbnail/s3/012017/lyabinoti_elbasan_albaniya_old_logo3.jpg?itok=qYMfiR0J is: 64%\n",
      "Page: 4 Cosine Similarity of The Main Image and Image: https://d1yjjnpx0p53s8.cloudfront.net/styles/logo-thumbnail/s3/012017/lyabinoti_elbasan_albaniya_old_logo2.jpg?itok=-QCyncBF is: 63%\n",
      "Page: 4 Cosine Similarity of The Main Image and Image: https://d1yjjnpx0p53s8.cloudfront.net/styles/logo-thumbnail/s3/012017/lyabinoti_elbasan_albaniya_old_logo.jpg?itok=iDHHcsOE is: 45%\n",
      "Page: 4 Cosine Similarity of The Main Image and Image: https://d1yjjnpx0p53s8.cloudfront.net/styles/logo-thumbnail/s3/012017/vlazniya_shkoder_albaniya_old_logo3.jpg?itok=G4C_EfWT is: 58%\n",
      "Page: 4 Cosine Similarity of The Main Image and Image: https://d1yjjnpx0p53s8.cloudfront.net/styles/logo-thumbnail/s3/012017/vlazniya_shkoder_albaniya_old_logo2.jpg?itok=__lNirKO is: 47%\n",
      "Page: 4 Cosine Similarity of The Main Image and Image: https://d1yjjnpx0p53s8.cloudfront.net/styles/logo-thumbnail/s3/012017/vlazniya_shkoder_albaniya_old_logo.jpg?itok=X_icJ55M is: 55%\n",
      "Page: 4 Cosine Similarity of The Main Image and Image: https://d1yjjnpx0p53s8.cloudfront.net/styles/logo-thumbnail/s3/012017/olimpik_tirana_albaniya_old_logo4.jpg?itok=rx73dOhe is: 56%\n",
      "Page: 4 Cosine Similarity of The Main Image and Image: https://d1yjjnpx0p53s8.cloudfront.net/styles/logo-thumbnail/s3/012017/dinamo_tirana_albaniya_old_logo3.jpg?itok=eyil9Nc3 is: 53%\n",
      "Page: 4 Cosine Similarity of The Main Image and Image: https://d1yjjnpx0p53s8.cloudfront.net/styles/logo-thumbnail/s3/012017/dinamo_tirana_albaniya_old_logo2.jpg?itok=ph0HJMsQ is: 53%\n",
      "Page: 5 Cosine Similarity of The Main Image and Image: https://d1yjjnpx0p53s8.cloudfront.net/styles/logo-thumbnail/s3/012017/dinamo_tirana_albaniya_old_logo.jpg?itok=gQt_--Yb is: 50%\n",
      "Page: 5 Cosine Similarity of The Main Image and Image: https://d1yjjnpx0p53s8.cloudfront.net/styles/logo-thumbnail/s3/012017/lokomotiva_durres_albaniya_old_logo2.jpg?itok=HOFrE9hI is: 63%\n",
      "Page: 5 Cosine Similarity of The Main Image and Image: https://d1yjjnpx0p53s8.cloudfront.net/styles/logo-thumbnail/s3/012017/lokomotiva_durres_albaniya_old_logo.jpg?itok=wAiTny22 is: 56%\n",
      "Page: 5 Cosine Similarity of The Main Image and Image: https://d1yjjnpx0p53s8.cloudfront.net/styles/logo-thumbnail/s3/012017/teuta_durres_albaniya.jpg?itok=0P7OwKw9 is: 61%\n",
      "Page: 5 Cosine Similarity of The Main Image and Image: https://d1yjjnpx0p53s8.cloudfront.net/styles/logo-thumbnail/s3/012017/tirana_albaniya.jpg?itok=9Gkjkmh_ is: 58%\n",
      "Page: 5 Cosine Similarity of The Main Image and Image: https://d1yjjnpx0p53s8.cloudfront.net/styles/logo-thumbnail/s3/012017/17_nentori_tirana_albaniya_old_logo3.jpg?itok=MwduJiOh is: 58%\n",
      "Page: 5 Cosine Similarity of The Main Image and Image: https://d1yjjnpx0p53s8.cloudfront.net/styles/logo-thumbnail/s3/012017/17_nentori_tirana_albaniya_old_logo2.jpg?itok=BcuKsHT8 is: 50%\n",
      "Page: 5 Cosine Similarity of The Main Image and Image: https://d1yjjnpx0p53s8.cloudfront.net/styles/logo-thumbnail/s3/012017/17_nentori_tirana_albaniya_old_logo.jpg?itok=pl7xLorR is: 58%\n",
      "Page: 5 Cosine Similarity of The Main Image and Image: https://d1yjjnpx0p53s8.cloudfront.net/styles/logo-thumbnail/s3/092016/untitled-1_11.jpg?itok=7fjL6K0t is: 65%\n",
      "Page: 5 Cosine Similarity of The Main Image and Image: https://d1yjjnpx0p53s8.cloudfront.net/styles/logo-thumbnail/s3/072016/untitled-2_4.png?itok=Y0paEE89 is: 72%\n",
      "Page: 5 Cosine Similarity of The Main Image and Image: https://d1yjjnpx0p53s8.cloudfront.net/styles/logo-thumbnail/s3/052016/untitled-1_174.png?itok=BvZXjE8I is: 69%\n",
      "Page: 5 Cosine Similarity of The Main Image and Image: https://d1yjjnpx0p53s8.cloudfront.net/styles/logo-thumbnail/s3/022016/fc_flamurtari_vlore.gif?itok=HgrO_mro is: 51%\n",
      "Page: 5 Cosine Similarity of The Main Image and Image: https://d1yjjnpx0p53s8.cloudfront.net/styles/logo-thumbnail/s3/022016/untitled-1_127.png?itok=55ADa1vO is: 66%\n",
      "Page: 5 Cosine Similarity of The Main Image and Image: https://d1yjjnpx0p53s8.cloudfront.net/styles/logo-thumbnail/s3/122015/fk_vora.gif?itok=AZIXTrui is: 55%\n",
      "Page: 5 Cosine Similarity of The Main Image and Image: https://d1yjjnpx0p53s8.cloudfront.net/styles/logo-thumbnail/s3/122015/sk_skrapari.gif?itok=GuJWYGNh is: 57%\n",
      "Page: 5 Cosine Similarity of The Main Image and Image: https://d1yjjnpx0p53s8.cloudfront.net/styles/logo-thumbnail/s3/102015/ks_terbuni_puke.gif?itok=CzA7KON9 is: 64%\n",
      "Page: 5 Cosine Similarity of The Main Image and Image: https://d1yjjnpx0p53s8.cloudfront.net/styles/logo-thumbnail/s3/102015/kf_pogradeci.gif?itok=B6PUQQgC is: 57%\n",
      "Page: 5 Cosine Similarity of The Main Image and Image: https://d1yjjnpx0p53s8.cloudfront.net/styles/logo-thumbnail/s3/072015/new_gallery_logo_2.png?itok=ME40YNLU is: 67%\n",
      "Page: 5 Cosine Similarity of The Main Image and Image: https://d1yjjnpx0p53s8.cloudfront.net/styles/logo-thumbnail/s3/072015/new_gallery_logo_1_0.png?itok=cvE6cR_O is: 72%\n",
      "Page: 5 Cosine Similarity of The Main Image and Image: https://d1yjjnpx0p53s8.cloudfront.net/styles/logo-thumbnail/s3/072015/valbona.png?itok=zEVTbp_9 is: 48%\n",
      "Page: 5 Cosine Similarity of The Main Image and Image: https://d1yjjnpx0p53s8.cloudfront.net/styles/logo-thumbnail/s3/072015/ministria_e_mireqenies_sociale_dhe_rinise_0.png?itok=AvmbBNwu is: 63%\n",
      "Page: 5 Cosine Similarity of The Main Image and Image: https://d1yjjnpx0p53s8.cloudfront.net/styles/logo-thumbnail/s3/062015/genial_reklama.png?itok=2aUghyvJ is: 68%\n",
      "Page: 5 Cosine Similarity of The Main Image and Image: https://d1yjjnpx0p53s8.cloudfront.net/styles/logo-thumbnail/s3/062015/living_logo.png?itok=NdebcgRq is: 66%\n",
      "Page: 5 Cosine Similarity of The Main Image and Image: https://d1yjjnpx0p53s8.cloudfront.net/styles/logo-thumbnail/s3/032015/logo_per_filxhan_caji_mulliri_vjeter.png?itok=q9dUvK4z is: 63%\n",
      "Page: 5 Cosine Similarity of The Main Image and Image: https://d1yjjnpx0p53s8.cloudfront.net/styles/logo-thumbnail/s3/032015/genial_logo_ok.png?itok=0POmyr9C is: 69%\n",
      "Page: 5 Cosine Similarity of The Main Image and Image: https://d1yjjnpx0p53s8.cloudfront.net/styles/logo-thumbnail/s3/022015/logo_1.png?itok=U6rFTisg is: 63%\n",
      "Page: 5 Cosine Similarity of The Main Image and Image: https://d1yjjnpx0p53s8.cloudfront.net/styles/logo-thumbnail/s3/012015/lofo_shina.jpg?itok=NXlrA2NB is: 62%\n",
      "Page: 5 Cosine Similarity of The Main Image and Image: https://d1yjjnpx0p53s8.cloudfront.net/styles/logo-thumbnail/s3/082014/babar.png?itok=I_FEfl3B is: 52%\n",
      "Page: 5 Cosine Similarity of The Main Image and Image: https://d1yjjnpx0p53s8.cloudfront.net/styles/logo-thumbnail/s3/082014/logo_rent.jpg?itok=kL8sPGzd is: 68%\n",
      "Page: 5 Cosine Similarity of The Main Image and Image: https://d1yjjnpx0p53s8.cloudfront.net/styles/logo-thumbnail/s3/072014/luviv.jpg?itok=xLizcoL1 is: 69%\n",
      "Page: 5 Cosine Similarity of The Main Image and Image: https://d1yjjnpx0p53s8.cloudfront.net/styles/logo-thumbnail/s3/052014/untitled-1_86.png?itok=dJ6QuL6E is: 53%\n",
      "Page: 5 Cosine Similarity of The Main Image and Image: https://d1yjjnpx0p53s8.cloudfront.net/styles/logo-thumbnail/s3/052014/untitled-1_85.png?itok=_KS7gvRr is: 51%\n",
      "Page: 6 Cosine Similarity of The Main Image and Image: https://d1yjjnpx0p53s8.cloudfront.net/styles/logo-thumbnail/s3/052014/fk_veleciku_koplik.gif?itok=thvzkiEW is: 56%\n",
      "Page: 6 Cosine Similarity of The Main Image and Image: https://d1yjjnpx0p53s8.cloudfront.net/styles/logo-thumbnail/s3/052014/shala-trans.png?itok=GO0moZCZ is: 62%\n",
      "Page: 6 Cosine Similarity of The Main Image and Image: https://d1yjjnpx0p53s8.cloudfront.net/styles/logo-thumbnail/s3/042014/untitled-1_23.png?itok=KOvlgkTY is: 68%\n",
      "Page: 6 Cosine Similarity of The Main Image and Image: https://d1yjjnpx0p53s8.cloudfront.net/styles/logo-thumbnail/s3/012014/untitled-1_171.png?itok=nC7ObXle is: 60%\n",
      "Page: 6 Cosine Similarity of The Main Image and Image: https://d1yjjnpx0p53s8.cloudfront.net/styles/logo-thumbnail/s3/012014/new_generation_logo.png?itok=2r9xx_T4 is: 61%\n"
     ]
    },
    {
     "ename": "InternalError",
     "evalue": "{{function_node __wrapped__ReadFile_device_/job:localhost/replica:0/task:0/device:CPU:0}} Unable to perform (35): schannel: failed to receive handshake, SSL/TLS connection failed [Op:ReadFile]",
     "output_type": "error",
     "traceback": [
      "\u001b[1;31m---------------------------------------------------------------------------\u001b[0m",
      "\u001b[1;31mInternalError\u001b[0m                             Traceback (most recent call last)",
      "Cell \u001b[1;32mIn [10], line 23\u001b[0m\n\u001b[0;32m     21\u001b[0m \u001b[38;5;66;03m#extract features from each retrieved logo image\u001b[39;00m\n\u001b[0;32m     22\u001b[0m helper2 \u001b[38;5;241m=\u001b[39m TensorVector(logoPath)\n\u001b[1;32m---> 23\u001b[0m vector2 \u001b[38;5;241m=\u001b[39m \u001b[43mhelper2\u001b[49m\u001b[38;5;241;43m.\u001b[39;49m\u001b[43mprocess\u001b[49m\u001b[43m(\u001b[49m\u001b[43m)\u001b[49m\n\u001b[0;32m     24\u001b[0m \u001b[38;5;66;03m# get the cosine similarity\u001b[39;00m\n\u001b[0;32m     25\u001b[0m cosine_similarity \u001b[38;5;241m=\u001b[39m cosineSim(vector1, vector2)\n",
      "Cell \u001b[1;32mIn [4], line 8\u001b[0m, in \u001b[0;36mTensorVector.process\u001b[1;34m(self)\u001b[0m\n\u001b[0;32m      6\u001b[0m \u001b[38;5;28;01mdef\u001b[39;00m \u001b[38;5;21mprocess\u001b[39m(\u001b[38;5;28mself\u001b[39m):\n\u001b[1;32m----> 8\u001b[0m     img \u001b[38;5;241m=\u001b[39m \u001b[43mtf\u001b[49m\u001b[38;5;241;43m.\u001b[39;49m\u001b[43mio\u001b[49m\u001b[38;5;241;43m.\u001b[39;49m\u001b[43mread_file\u001b[49m\u001b[43m(\u001b[49m\u001b[38;5;28;43mself\u001b[39;49m\u001b[38;5;241;43m.\u001b[39;49m\u001b[43mFileName\u001b[49m\u001b[43m)\u001b[49m\n\u001b[0;32m      9\u001b[0m     img \u001b[38;5;241m=\u001b[39m tf\u001b[38;5;241m.\u001b[39mio\u001b[38;5;241m.\u001b[39mdecode_jpeg(img, channels\u001b[38;5;241m=\u001b[39m\u001b[38;5;241m3\u001b[39m)\n\u001b[0;32m     10\u001b[0m     img \u001b[38;5;241m=\u001b[39m tf\u001b[38;5;241m.\u001b[39mimage\u001b[38;5;241m.\u001b[39mresize_with_pad(img, \u001b[38;5;241m224\u001b[39m, \u001b[38;5;241m224\u001b[39m)\n",
      "File \u001b[1;32mc:\\users\\dell\\appdata\\local\\programs\\python\\python39\\lib\\site-packages\\tensorflow\\python\\ops\\io_ops.py:133\u001b[0m, in \u001b[0;36mread_file\u001b[1;34m(filename, name)\u001b[0m\n\u001b[0;32m     96\u001b[0m \u001b[38;5;129m@tf_export\u001b[39m(\u001b[38;5;124m\"\u001b[39m\u001b[38;5;124mio.read_file\u001b[39m\u001b[38;5;124m\"\u001b[39m, v1\u001b[38;5;241m=\u001b[39m[\u001b[38;5;124m\"\u001b[39m\u001b[38;5;124mio.read_file\u001b[39m\u001b[38;5;124m\"\u001b[39m, \u001b[38;5;124m\"\u001b[39m\u001b[38;5;124mread_file\u001b[39m\u001b[38;5;124m\"\u001b[39m])\n\u001b[0;32m     97\u001b[0m \u001b[38;5;28;01mdef\u001b[39;00m \u001b[38;5;21mread_file\u001b[39m(filename, name\u001b[38;5;241m=\u001b[39m\u001b[38;5;28;01mNone\u001b[39;00m):\n\u001b[0;32m     98\u001b[0m   \u001b[38;5;124;03m\"\"\"Reads the contents of file.\u001b[39;00m\n\u001b[0;32m     99\u001b[0m \n\u001b[0;32m    100\u001b[0m \u001b[38;5;124;03m  This operation returns a tensor with the entire contents of the input\u001b[39;00m\n\u001b[1;32m   (...)\u001b[0m\n\u001b[0;32m    131\u001b[0m \u001b[38;5;124;03m    A tensor of dtype \"string\", with the file contents.\u001b[39;00m\n\u001b[0;32m    132\u001b[0m \u001b[38;5;124;03m  \"\"\"\u001b[39;00m\n\u001b[1;32m--> 133\u001b[0m   \u001b[38;5;28;01mreturn\u001b[39;00m \u001b[43mgen_io_ops\u001b[49m\u001b[38;5;241;43m.\u001b[39;49m\u001b[43mread_file\u001b[49m\u001b[43m(\u001b[49m\u001b[43mfilename\u001b[49m\u001b[43m,\u001b[49m\u001b[43m \u001b[49m\u001b[43mname\u001b[49m\u001b[43m)\u001b[49m\n",
      "File \u001b[1;32mc:\\users\\dell\\appdata\\local\\programs\\python\\python39\\lib\\site-packages\\tensorflow\\python\\ops\\gen_io_ops.py:581\u001b[0m, in \u001b[0;36mread_file\u001b[1;34m(filename, name)\u001b[0m\n\u001b[0;32m    579\u001b[0m   \u001b[38;5;28;01mpass\u001b[39;00m\n\u001b[0;32m    580\u001b[0m \u001b[38;5;28;01mtry\u001b[39;00m:\n\u001b[1;32m--> 581\u001b[0m   \u001b[38;5;28;01mreturn\u001b[39;00m \u001b[43mread_file_eager_fallback\u001b[49m\u001b[43m(\u001b[49m\n\u001b[0;32m    582\u001b[0m \u001b[43m      \u001b[49m\u001b[43mfilename\u001b[49m\u001b[43m,\u001b[49m\u001b[43m \u001b[49m\u001b[43mname\u001b[49m\u001b[38;5;241;43m=\u001b[39;49m\u001b[43mname\u001b[49m\u001b[43m,\u001b[49m\u001b[43m \u001b[49m\u001b[43mctx\u001b[49m\u001b[38;5;241;43m=\u001b[39;49m\u001b[43m_ctx\u001b[49m\u001b[43m)\u001b[49m\n\u001b[0;32m    583\u001b[0m \u001b[38;5;28;01mexcept\u001b[39;00m _core\u001b[38;5;241m.\u001b[39m_SymbolicException:\n\u001b[0;32m    584\u001b[0m   \u001b[38;5;28;01mpass\u001b[39;00m  \u001b[38;5;66;03m# Add nodes to the TensorFlow graph.\u001b[39;00m\n",
      "File \u001b[1;32mc:\\users\\dell\\appdata\\local\\programs\\python\\python39\\lib\\site-packages\\tensorflow\\python\\ops\\gen_io_ops.py:604\u001b[0m, in \u001b[0;36mread_file_eager_fallback\u001b[1;34m(filename, name, ctx)\u001b[0m\n\u001b[0;32m    602\u001b[0m _inputs_flat \u001b[38;5;241m=\u001b[39m [filename]\n\u001b[0;32m    603\u001b[0m _attrs \u001b[38;5;241m=\u001b[39m \u001b[38;5;28;01mNone\u001b[39;00m\n\u001b[1;32m--> 604\u001b[0m _result \u001b[38;5;241m=\u001b[39m \u001b[43m_execute\u001b[49m\u001b[38;5;241;43m.\u001b[39;49m\u001b[43mexecute\u001b[49m\u001b[43m(\u001b[49m\u001b[38;5;124;43mb\u001b[39;49m\u001b[38;5;124;43m\"\u001b[39;49m\u001b[38;5;124;43mReadFile\u001b[39;49m\u001b[38;5;124;43m\"\u001b[39;49m\u001b[43m,\u001b[49m\u001b[43m \u001b[49m\u001b[38;5;241;43m1\u001b[39;49m\u001b[43m,\u001b[49m\u001b[43m \u001b[49m\u001b[43minputs\u001b[49m\u001b[38;5;241;43m=\u001b[39;49m\u001b[43m_inputs_flat\u001b[49m\u001b[43m,\u001b[49m\n\u001b[0;32m    605\u001b[0m \u001b[43m                           \u001b[49m\u001b[43mattrs\u001b[49m\u001b[38;5;241;43m=\u001b[39;49m\u001b[43m_attrs\u001b[49m\u001b[43m,\u001b[49m\u001b[43m \u001b[49m\u001b[43mctx\u001b[49m\u001b[38;5;241;43m=\u001b[39;49m\u001b[43mctx\u001b[49m\u001b[43m,\u001b[49m\u001b[43m \u001b[49m\u001b[43mname\u001b[49m\u001b[38;5;241;43m=\u001b[39;49m\u001b[43mname\u001b[49m\u001b[43m)\u001b[49m\n\u001b[0;32m    606\u001b[0m \u001b[38;5;28;01mif\u001b[39;00m _execute\u001b[38;5;241m.\u001b[39mmust_record_gradient():\n\u001b[0;32m    607\u001b[0m   _execute\u001b[38;5;241m.\u001b[39mrecord_gradient(\n\u001b[0;32m    608\u001b[0m       \u001b[38;5;124m\"\u001b[39m\u001b[38;5;124mReadFile\u001b[39m\u001b[38;5;124m\"\u001b[39m, _inputs_flat, _attrs, _result)\n",
      "File \u001b[1;32mc:\\users\\dell\\appdata\\local\\programs\\python\\python39\\lib\\site-packages\\tensorflow\\python\\eager\\execute.py:54\u001b[0m, in \u001b[0;36mquick_execute\u001b[1;34m(op_name, num_outputs, inputs, attrs, ctx, name)\u001b[0m\n\u001b[0;32m     52\u001b[0m \u001b[38;5;28;01mtry\u001b[39;00m:\n\u001b[0;32m     53\u001b[0m   ctx\u001b[38;5;241m.\u001b[39mensure_initialized()\n\u001b[1;32m---> 54\u001b[0m   tensors \u001b[38;5;241m=\u001b[39m \u001b[43mpywrap_tfe\u001b[49m\u001b[38;5;241;43m.\u001b[39;49m\u001b[43mTFE_Py_Execute\u001b[49m\u001b[43m(\u001b[49m\u001b[43mctx\u001b[49m\u001b[38;5;241;43m.\u001b[39;49m\u001b[43m_handle\u001b[49m\u001b[43m,\u001b[49m\u001b[43m \u001b[49m\u001b[43mdevice_name\u001b[49m\u001b[43m,\u001b[49m\u001b[43m \u001b[49m\u001b[43mop_name\u001b[49m\u001b[43m,\u001b[49m\n\u001b[0;32m     55\u001b[0m \u001b[43m                                      \u001b[49m\u001b[43minputs\u001b[49m\u001b[43m,\u001b[49m\u001b[43m \u001b[49m\u001b[43mattrs\u001b[49m\u001b[43m,\u001b[49m\u001b[43m \u001b[49m\u001b[43mnum_outputs\u001b[49m\u001b[43m)\u001b[49m\n\u001b[0;32m     56\u001b[0m \u001b[38;5;28;01mexcept\u001b[39;00m core\u001b[38;5;241m.\u001b[39m_NotOkStatusException \u001b[38;5;28;01mas\u001b[39;00m e:\n\u001b[0;32m     57\u001b[0m   \u001b[38;5;28;01mif\u001b[39;00m name \u001b[38;5;129;01mis\u001b[39;00m \u001b[38;5;129;01mnot\u001b[39;00m \u001b[38;5;28;01mNone\u001b[39;00m:\n",
      "\u001b[1;31mInternalError\u001b[0m: {{function_node __wrapped__ReadFile_device_/job:localhost/replica:0/task:0/device:CPU:0}} Unable to perform (35): schannel: failed to receive handshake, SSL/TLS connection failed [Op:ReadFile]"
     ]
    }
   ],
   "source": [
    "country = \"al\"\n",
    "pageNumber = 1\n",
    "isLastPage = False\n",
    "\n",
    "while isLastPage != True:\n",
    "  URL = \"http://localhost/WalidLogosApi?country=\"+country+\"&pagenumber=\"+str(pageNumber)\n",
    "  response = requests.get(url = URL)\n",
    "  decodedResponse = response.json()\n",
    "  #data\n",
    "  companies = decodedResponse['companies']\n",
    "  logos = decodedResponse['logos']\n",
    "  lastPage = decodedResponse[\"lastPage\"]\n",
    "  #loop through data (both lists have the same length)\n",
    "  for i in range(len(companies)): \n",
    "    companyName = companies[i]\n",
    "    logoPath = logos[i]\n",
    "    # check if the logo Image path is hidden or not by the website (if not it starts with http)\n",
    "    if logoPath[0]!=\"h\":\n",
    "        #display default image\n",
    "        logoPath = \"E:/Graduation Project/Datasets/WebScraping Logos/hidden-logo.png\"\n",
    "    #extract features from each retrieved logo image\n",
    "    helper2 = TensorVector(logoPath)\n",
    "    vector2 = helper2.process()\n",
    "    # get the cosine similarity\n",
    "    cosine_similarity = cosineSim(vector1, vector2)\n",
    "    #display if similarity is above a certain limit\n",
    "    retrievedLogoImage = cv2.imread(logoPath, cv2.IMREAD_ANYCOLOR) \n",
    "    print(\"Page: \"+str(pageNumber)+\" Cosine Similarity of The Main Image and Image: \"+ logoPath + \" is: \"+ str(round(cosine_similarity*100))+\"%\")\n",
    "    if cosine_similarity > 0.90:\n",
    "      print(companyName + \" is a match\")\n",
    "      urllib.request.urlretrieve(logoPath, \"matchedlogo\")\n",
    "      img = Image.open(\"matchedlogo\")\n",
    "      img.show()\n",
    "  \n",
    "  if lastPage == 0:\n",
    "    isLastPage = True\n",
    "  #increment pages\n",
    "  pageNumber = pageNumber + 1\n",
    "\n",
    "\n",
    "\n"
   ]
  },
  {
   "cell_type": "code",
   "execution_count": null,
   "id": "6b8517b0",
   "metadata": {},
   "outputs": [],
   "source": []
  }
 ],
 "metadata": {
  "kernelspec": {
   "display_name": "Python 3 (ipykernel)",
   "language": "python",
   "name": "python3"
  },
  "language_info": {
   "codemirror_mode": {
    "name": "ipython",
    "version": 3
   },
   "file_extension": ".py",
   "mimetype": "text/x-python",
   "name": "python",
   "nbconvert_exporter": "python",
   "pygments_lexer": "ipython3",
   "version": "3.9.0"
  }
 },
 "nbformat": 4,
 "nbformat_minor": 5
}
