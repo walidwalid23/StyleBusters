{
 "cells": [
  {
   "cell_type": "code",
   "execution_count": 3,
   "id": "956bed2c",
   "metadata": {},
   "outputs": [
    {
     "name": "stdout",
     "output_type": "stream",
     "text": [
      "WARNING:tensorflow:Please fix your imports. Module tensorflow.python.training.tracking.data_structures has been moved to tensorflow.python.trackable.data_structures. The old module will be deleted in version 2.11.\n"
     ]
    }
   ],
   "source": [
    "import tensorflow as tf\n",
    "import tensorflow_hub as hub\n",
    "import numpy as np\n",
    "import os\n",
    "import pandas as pd\n",
    "import matplotlib.pyplot as plt \n",
    "import base64\n",
    "from PIL import Image\n",
    "import io\n",
    "import math \n",
    "from math import sqrt\n",
    "import requests\n",
    "import cv2\n",
    "import urllib.request\n",
    "%matplotlib inline\n",
    "\n",
    "global embed\n",
    "saved_model_path = 'E:\\Graduation Project\\Datasets\\PRE TRAINED MOBILE NET'\n",
    "embed = hub.KerasLayer(saved_model_path)"
   ]
  },
  {
   "cell_type": "markdown",
   "id": "2d04b6b5",
   "metadata": {},
   "source": [
    "## CONVERTING IMAGES TO FEATURE VECTORS (EMBEDDINGS)"
   ]
  },
  {
   "cell_type": "code",
   "execution_count": 4,
   "id": "4d1568a6",
   "metadata": {},
   "outputs": [],
   "source": [
    "class TensorVector(object):\n",
    "\n",
    "    def __init__(self, FileName=None):\n",
    "        self.FileName = FileName\n",
    "\n",
    "    def process(self):\n",
    "\n",
    "        img = tf.io.read_file(self.FileName)\n",
    "        img = tf.io.decode_jpeg(img, channels=3)\n",
    "        img = tf.image.resize_with_pad(img, 224, 224)\n",
    "        img = tf.image.convert_image_dtype(img,tf.float32)[tf.newaxis, ...]\n",
    "        features = embed(img)\n",
    "        feature_set = np.squeeze(features)\n",
    "        return list(feature_set)"
   ]
  },
  {
   "cell_type": "markdown",
   "id": "fe6e2b98",
   "metadata": {},
   "source": [
    "## function to find the cosine similarity between feature vectors"
   ]
  },
  {
   "cell_type": "code",
   "execution_count": 5,
   "id": "51583017",
   "metadata": {},
   "outputs": [],
   "source": [
    "def cosineSim(a1,a2):\n",
    "    sum = 0\n",
    "    suma1 = 0\n",
    "    sumb1 = 0\n",
    "    for i,j in zip(a1, a2):\n",
    "        suma1 += i * i\n",
    "        sumb1 += j*j\n",
    "        sum += i*j\n",
    "    cosine_sim = sum / ((sqrt(suma1))*(sqrt(sumb1)))\n",
    "    return cosine_sim"
   ]
  },
  {
   "cell_type": "markdown",
   "id": "ed587d95",
   "metadata": {},
   "source": [
    "## Path Of Main Uploaded Image"
   ]
  },
  {
   "cell_type": "code",
   "execution_count": 6,
   "id": "388871df",
   "metadata": {},
   "outputs": [
    {
     "data": {
      "text/plain": [
       "-1"
      ]
     },
     "execution_count": 6,
     "metadata": {},
     "output_type": "execute_result"
    }
   ],
   "source": [
    "logoImgPath = \"E:/Graduation Project/Datasets/WebScraping Logos/puna.jpg\"\n",
    "\n",
    "logoImage = cv2.imread(logoImgPath, cv2.IMREAD_ANYCOLOR)  \n",
    "cv2.imshow(\"main logo\",logoImage)\n",
    "cv2.waitKey(0)"
   ]
  },
  {
   "cell_type": "markdown",
   "id": "1a0e8fcd",
   "metadata": {},
   "source": [
    "## getting feature vector of the main logo image"
   ]
  },
  {
   "cell_type": "code",
   "execution_count": 7,
   "id": "605ec6b5",
   "metadata": {},
   "outputs": [
    {
     "data": {
      "text/plain": [
       "1280"
      ]
     },
     "execution_count": 7,
     "metadata": {},
     "output_type": "execute_result"
    }
   ],
   "source": [
    "helper = TensorVector(logoImgPath)\n",
    "vector1 = helper.process()\n",
    "len(vector1)"
   ]
  },
  {
   "cell_type": "markdown",
   "id": "b4700401",
   "metadata": {},
   "source": [
    "## getting feature vector of the retrieved logos images"
   ]
  },
  {
   "cell_type": "code",
   "execution_count": null,
   "id": "7151fe2d",
   "metadata": {},
   "outputs": [],
   "source": []
  }
 ],
 "metadata": {
  "kernelspec": {
   "display_name": "Python 3 (ipykernel)",
   "language": "python",
   "name": "python3"
  },
  "language_info": {
   "codemirror_mode": {
    "name": "ipython",
    "version": 3
   },
   "file_extension": ".py",
   "mimetype": "text/x-python",
   "name": "python",
   "nbconvert_exporter": "python",
   "pygments_lexer": "ipython3",
   "version": "3.9.0"
  }
 },
 "nbformat": 4,
 "nbformat_minor": 5
}
