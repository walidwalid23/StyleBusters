{
 "cells": [
  {
   "cell_type": "code",
   "execution_count": 9,
   "id": "a9d0e007",
   "metadata": {
    "scrolled": true
   },
   "outputs": [],
   "source": [
    "#imports\n",
    "import torch\n",
    "import numpy as np\n",
    "from roboflow import Roboflow\n",
    "from ultralytics import YOLO"
   ]
  },
  {
   "cell_type": "code",
   "execution_count": null,
   "id": "5d26adf8",
   "metadata": {},
   "outputs": [],
   "source": [
    "#upload dataset\n",
    "rf = Roboflow(api_key=\"QZliVlqH90HkKYbUYVm1\")\n",
    "project = rf.workspace(\"misr-international-university-ibms7\").project(\"clothes-detection-qrsy8\")\n",
    "dataset = project.version(1).download(\"yolov8\")"
   ]
  },
  {
   "cell_type": "code",
   "execution_count": null,
   "id": "3d2be68a",
   "metadata": {
    "scrolled": true
   },
   "outputs": [
    {
     "name": "stderr",
     "output_type": "stream",
     "text": [
      "Ultralytics YOLOv8.0.25  Python-3.10.11 torch-1.13.1+cpu CPU\n",
      "\u001b[34m\u001b[1myolo\\engine\\trainer: \u001b[0mtask=detect, mode=train, model=yolov8n.yaml, data=C:/Users/seifw/Clothes-Detection-1/data.yaml, epochs=30, patience=50, batch=64, imgsz=640, save=True, cache=False, device=, workers=8, project=None, name=None, exist_ok=False, pretrained=False, optimizer=SGD, verbose=True, seed=0, deterministic=True, single_cls=False, image_weights=False, rect=False, cos_lr=False, close_mosaic=10, resume=False, overlap_mask=True, mask_ratio=4, dropout=False, val=True, save_json=False, save_hybrid=False, conf=0.001, iou=0.7, max_det=300, half=False, dnn=False, plots=True, source=ultralytics/assets/, show=False, save_txt=False, save_conf=False, save_crop=False, hide_labels=False, hide_conf=False, vid_stride=1, line_thickness=3, visualize=False, augment=False, agnostic_nms=False, classes=None, retina_masks=False, boxes=True, format=torchscript, keras=False, optimize=False, int8=False, dynamic=False, simplify=False, opset=17, workspace=4, nms=False, lr0=0.01, lrf=0.01, momentum=0.937, weight_decay=0.001, warmup_epochs=3.0, warmup_momentum=0.8, warmup_bias_lr=0.1, box=7.5, cls=0.5, dfl=1.5, fl_gamma=0.0, label_smoothing=0.0, nbs=64, hsv_h=0.015, hsv_s=0.7, hsv_v=0.4, degrees=0.0, translate=0.1, scale=0.5, shear=0.0, perspective=0.0, flipud=0.0, fliplr=0.5, mosaic=1.0, mixup=0.0, copy_paste=0.0, cfg=None, v5loader=False, save_dir=runs\\detect\\train4\n",
      "Overriding model.yaml nc=80 with nc=13\n",
      "\n",
      "                   from  n    params  module                                       arguments                     \n",
      "  0                  -1  1       464  ultralytics.nn.modules.Conv                  [3, 16, 3, 2]                 \n",
      "  1                  -1  1      4672  ultralytics.nn.modules.Conv                  [16, 32, 3, 2]                \n",
      "  2                  -1  1      7360  ultralytics.nn.modules.C2f                   [32, 32, 1, True]             \n",
      "  3                  -1  1     18560  ultralytics.nn.modules.Conv                  [32, 64, 3, 2]                \n",
      "  4                  -1  2     49664  ultralytics.nn.modules.C2f                   [64, 64, 2, True]             \n",
      "  5                  -1  1     73984  ultralytics.nn.modules.Conv                  [64, 128, 3, 2]               \n",
      "  6                  -1  2    197632  ultralytics.nn.modules.C2f                   [128, 128, 2, True]           \n",
      "  7                  -1  1    295424  ultralytics.nn.modules.Conv                  [128, 256, 3, 2]              \n",
      "  8                  -1  1    460288  ultralytics.nn.modules.C2f                   [256, 256, 1, True]           \n",
      "  9                  -1  1    164608  ultralytics.nn.modules.SPPF                  [256, 256, 5]                 \n",
      " 10                  -1  1         0  torch.nn.modules.upsampling.Upsample         [None, 2, 'nearest']          \n",
      " 11             [-1, 6]  1         0  ultralytics.nn.modules.Concat                [1]                           \n",
      " 12                  -1  1    148224  ultralytics.nn.modules.C2f                   [384, 128, 1]                 \n",
      " 13                  -1  1         0  torch.nn.modules.upsampling.Upsample         [None, 2, 'nearest']          \n",
      " 14             [-1, 4]  1         0  ultralytics.nn.modules.Concat                [1]                           \n",
      " 15                  -1  1     37248  ultralytics.nn.modules.C2f                   [192, 64, 1]                  \n",
      " 16                  -1  1     36992  ultralytics.nn.modules.Conv                  [64, 64, 3, 2]                \n",
      " 17            [-1, 12]  1         0  ultralytics.nn.modules.Concat                [1]                           \n",
      " 18                  -1  1    123648  ultralytics.nn.modules.C2f                   [192, 128, 1]                 \n",
      " 19                  -1  1    147712  ultralytics.nn.modules.Conv                  [128, 128, 3, 2]              \n",
      " 20             [-1, 9]  1         0  ultralytics.nn.modules.Concat                [1]                           \n",
      " 21                  -1  1    493056  ultralytics.nn.modules.C2f                   [384, 256, 1]                 \n",
      " 22        [15, 18, 21]  1    753847  ultralytics.nn.modules.Detect                [13, [64, 128, 256]]          \n",
      "Model summary: 225 layers, 3013383 parameters, 3013367 gradients, 8.2 GFLOPs\n",
      "\n",
      "Transferred 319/355 items from pretrained weights\n",
      "\u001b[34m\u001b[1moptimizer:\u001b[0m SGD(lr=0.01) with parameter groups 57 weight(decay=0.0), 64 weight(decay=0.001), 63 bias\n",
      "train: Scanning C:\\Users\\seifw\\Clothes-Detection-1\\train\\labels.cache... 15997 images, 31 backgrounds, 0 corrupt: 100%|Scanning C:\\Users\\seifw\\Clothes-Detection-1\\train\\labels.cache... 15997 images, 31 backgrounds, 0 corrupt: 100%|\n",
      "val: Scanning C:\\Users\\seifw\\Clothes-Detection-1\\test\\labels.cache... 3999 images, 8 backgrounds, 0 corrupt: 100%|█████Scanning C:\\Users\\seifw\\Clothes-Detection-1\\test\\labels.cache... 3999 images, 8 backgrounds, 0 corrupt: 100%|█████\n",
      "Image sizes 640 train, 640 val\n",
      "Using 0 dataloader workers\n",
      "Logging results to \u001b[1mruns\\detect\\train4\u001b[0m\n",
      "Starting training for 30 epochs...\n",
      "\n",
      "      Epoch    GPU_mem   box_loss   cls_loss   dfl_loss  Instances       Size\n",
      "       1/30         0G     0.8034      3.012      1.255        227        640: 100%|██████████| 250/250 [2:03:10<00:00,\n",
      "                 Class     Images  Instances      Box(P          R      mAP50  mAP50-95): 100%|██████████| 32/32 [12:14\n",
      "                   all       3999       6224      0.338      0.328      0.222      0.164\n",
      "\n",
      "      Epoch    GPU_mem   box_loss   cls_loss   dfl_loss  Instances       Size\n",
      "       2/30         0G     0.7697      2.071      1.194        224        640: 100%|██████████| 250/250 [2:00:52<00:00,\n",
      "                 Class     Images  Instances      Box(P          R      mAP50  mAP50-95): 100%|██████████| 32/32 [11:43\n",
      "                   all       3999       6224      0.408      0.321      0.274      0.191\n",
      "\n",
      "      Epoch    GPU_mem   box_loss   cls_loss   dfl_loss  Instances       Size\n",
      "       3/30         0G      0.864      1.969      1.247        239        640: 100%|██████████| 250/250 [2:00:41<00:00,\n",
      "                 Class     Images  Instances      Box(P          R      mAP50  mAP50-95): 100%|██████████| 32/32 [11:54\n",
      "                   all       3999       6224      0.308      0.171      0.111     0.0598\n",
      "\n",
      "      Epoch    GPU_mem   box_loss   cls_loss   dfl_loss  Instances       Size\n",
      "       4/30         0G     0.9121      1.927      1.281        207        640: 100%|██████████| 250/250 [2:06:51<00:00,\n",
      "                 Class     Images  Instances      Box(P          R      mAP50  mAP50-95): 100%|██████████| 32/32 [11:44\n",
      "                   all       3999       6224      0.337      0.254      0.224      0.151\n",
      "\n",
      "      Epoch    GPU_mem   box_loss   cls_loss   dfl_loss  Instances       Size\n",
      "       5/30         0G     0.8649      1.775      1.248        246        640: 100%|██████████| 250/250 [2:00:46<00:00,\n",
      "                 Class     Images  Instances      Box(P          R      mAP50  mAP50-95): 100%|██████████| 32/32 [11:43\n",
      "                   all       3999       6224      0.445      0.378      0.341      0.248\n",
      "\n",
      "      Epoch    GPU_mem   box_loss   cls_loss   dfl_loss  Instances       Size\n",
      "       6/30         0G     0.8137      1.655      1.218        196        640: 100%|██████████| 250/250 [2:00:39<00:00,\n",
      "                 Class     Images  Instances      Box(P          R      mAP50  mAP50-95): 100%|██████████| 32/32 [11:42\n",
      "                   all       3999       6224       0.55      0.395      0.398      0.299\n",
      "\n",
      "      Epoch    GPU_mem   box_loss   cls_loss   dfl_loss  Instances       Size\n",
      "       7/30         0G     0.7817      1.579      1.194        204        640: 100%|██████████| 250/250 [2:09:22<00:00,\n",
      "                 Class     Images  Instances      Box(P          R      mAP50  mAP50-95): 100%|██████████| 32/32 [13:12\n",
      "                   all       3999       6224      0.461      0.421      0.406      0.308\n",
      "\n",
      "      Epoch    GPU_mem   box_loss   cls_loss   dfl_loss  Instances       Size\n",
      "       8/30         0G     0.7629      1.517      1.182        207        640: 100%|██████████| 250/250 [2:03:22<00:00,\n",
      "                 Class     Images  Instances      Box(P          R      mAP50  mAP50-95): 100%|██████████| 32/32 [13:56\n",
      "                   all       3999       6224       0.59      0.448      0.447       0.34\n",
      "\n",
      "      Epoch    GPU_mem   box_loss   cls_loss   dfl_loss  Instances       Size\n",
      "       9/30         0G     0.7402      1.475       1.17        258        640: 100%|██████████| 250/250 [2:09:42<00:00,\n",
      "                 Class     Images  Instances      Box(P          R      mAP50  mAP50-95): 100%|██████████| 32/32 [14:13\n",
      "                   all       3999       6224      0.538      0.476      0.475      0.372\n",
      "\n",
      "      Epoch    GPU_mem   box_loss   cls_loss   dfl_loss  Instances       Size\n",
      "      10/30         0G     0.7231       1.43      1.159        222        640: 100%|██████████| 250/250 [2:01:24<00:00,\n",
      "                 Class     Images  Instances      Box(P          R      mAP50  mAP50-95): 100%|██████████| 32/32 [13:32\n",
      "                   all       3999       6224      0.567      0.497       0.52      0.417\n",
      "\n",
      "      Epoch    GPU_mem   box_loss   cls_loss   dfl_loss  Instances       Size\n",
      "      11/30         0G     0.6999      1.391      1.145        211        640: 100%|██████████| 250/250 [2:09:25<00:00,\n",
      "                 Class     Images  Instances      Box(P          R      mAP50  mAP50-95): 100%|██████████| 32/32 [11:57\n",
      "                   all       3999       6224      0.565       0.51       0.53      0.424\n",
      "\n",
      "      Epoch    GPU_mem   box_loss   cls_loss   dfl_loss  Instances       Size\n",
      "      12/30         0G     0.6882       1.35      1.133        212        640: 100%|██████████| 250/250 [2:01:07<00:00,\n",
      "                 Class     Images  Instances      Box(P          R      mAP50  mAP50-95): 100%|██████████| 32/32 [11:55\n",
      "                   all       3999       6224      0.556      0.535      0.561      0.453\n",
      "\n",
      "      Epoch    GPU_mem   box_loss   cls_loss   dfl_loss  Instances       Size\n",
      "      13/30         0G     0.6774      1.327      1.128        206        640: 100%|██████████| 250/250 [2:00:47<00:00,\n",
      "                 Class     Images  Instances      Box(P          R      mAP50  mAP50-95): 100%|██████████| 32/32 [11:53\n",
      "                   all       3999       6224      0.566      0.499      0.524       0.42\n",
      "\n",
      "      Epoch    GPU_mem   box_loss   cls_loss   dfl_loss  Instances       Size\n",
      "      14/30         0G     0.6572      1.293      1.117        238        640: 100%|██████████| 250/250 [2:00:31<00:00,\n",
      "                 Class     Images  Instances      Box(P          R      mAP50  mAP50-95): 100%|██████████| 32/32 [11:55\n",
      "                   all       3999       6224      0.554      0.541      0.572      0.465\n",
      "\n",
      "      Epoch    GPU_mem   box_loss   cls_loss   dfl_loss  Instances       Size\n",
      "      15/30         0G     0.6507      1.263       1.11        209        640: 100%|██████████| 250/250 [2:10:26<00:00,\n",
      "                 Class     Images  Instances      Box(P          R      mAP50  mAP50-95): 100%|██████████| 32/32 [11:56\n",
      "                   all       3999       6224      0.606      0.555      0.597      0.494\n",
      "\n",
      "      Epoch    GPU_mem   box_loss   cls_loss   dfl_loss  Instances       Size\n",
      "      16/30         0G      0.645      1.245      1.106        218        640: 100%|██████████| 250/250 [2:01:11<00:00,\n",
      "                 Class     Images  Instances      Box(P          R      mAP50  mAP50-95): 100%|██████████| 32/32 [11:57\n",
      "                   all       3999       6224       0.58      0.586      0.615      0.508\n",
      "\n",
      "      Epoch    GPU_mem   box_loss   cls_loss   dfl_loss  Instances       Size\n",
      "      17/30         0G     0.6336      1.225      1.101        221        640: 100%|██████████| 250/250 [2:11:46<00:00,\n",
      "                 Class     Images  Instances      Box(P          R      mAP50  mAP50-95): 100%|██████████| 32/32 [11:55\n",
      "                   all       3999       6224      0.647      0.563      0.617      0.514\n",
      "\n",
      "      Epoch    GPU_mem   box_loss   cls_loss   dfl_loss  Instances       Size\n",
      "      18/30         0G     0.6238      1.201      1.093        214        640: 100%|██████████| 250/250 [2:01:14<00:00,\n",
      "                 Class     Images  Instances      Box(P          R      mAP50  mAP50-95): 100%|██████████| 32/32 [11:56\n",
      "                   all       3999       6224      0.611      0.631      0.641      0.535\n",
      "\n",
      "      Epoch    GPU_mem   box_loss   cls_loss   dfl_loss  Instances       Size\n",
      "      19/30         0G     0.6123      1.181      1.087        215        640: 100%|██████████| 250/250 [2:10:18<00:00,\n",
      "                 Class     Images  Instances      Box(P          R      mAP50  mAP50-95): 100%|██████████| 32/32 [11:55\n",
      "                   all       3999       6224      0.705      0.573       0.65      0.546\n",
      "\n",
      "      Epoch    GPU_mem   box_loss   cls_loss   dfl_loss  Instances       Size\n",
      "      20/30         0G     0.6015      1.149      1.083        251        640: 100%|██████████| 250/250 [2:00:44<00:00,\n",
      "                 Class     Images  Instances      Box(P          R      mAP50  mAP50-95): 100%|██████████| 32/32 [11:52\n",
      "                   all       3999       6224      0.695      0.586       0.65      0.546\n",
      "Closing dataloader mosaic\n",
      "\n",
      "      Epoch    GPU_mem   box_loss   cls_loss   dfl_loss  Instances       Size\n",
      "      21/30         0G     0.5925     0.8978      1.124         96        640: 100%|██████████| 250/250 [1:54:24<00:00,\n",
      "                 Class     Images  Instances      Box(P          R      mAP50  mAP50-95): 100%|██████████| 32/32 [14:01\n",
      "                   all       3999       6224      0.691      0.629      0.668      0.566\n",
      "\n",
      "      Epoch    GPU_mem   box_loss   cls_loss   dfl_loss  Instances       Size\n",
      "      22/30         0G      0.577     0.8637       1.11         97        640: 100%|██████████| 250/250 [2:02:50<00:00,\n",
      "                 Class     Images  Instances      Box(P          R      mAP50  mAP50-95): 100%|██████████| 32/32 [11:51\n",
      "                   all       3999       6224      0.711      0.608      0.679      0.568\n",
      "\n",
      "      Epoch    GPU_mem   box_loss   cls_loss   dfl_loss  Instances       Size\n",
      "      23/30         0G     0.5585     0.8259      1.092         93        640: 100%|██████████| 250/250 [1:54:24<00:00,\n",
      "                 Class     Images  Instances      Box(P          R      mAP50  mAP50-95): 100%|██████████| 32/32 [11:51\n",
      "                   all       3999       6224      0.638      0.664      0.696      0.595\n",
      "\n",
      "      Epoch    GPU_mem   box_loss   cls_loss   dfl_loss  Instances       Size\n",
      "      24/30         0G      0.541     0.7908      1.078         94        640: 100%|██████████| 250/250 [1:54:20<00:00,\n",
      "                 Class     Images  Instances      Box(P          R      mAP50  mAP50-95): 100%|██████████| 32/32 [11:51\n",
      "                   all       3999       6224      0.663      0.663      0.707      0.608\n",
      "\n",
      "      Epoch    GPU_mem   box_loss   cls_loss   dfl_loss  Instances       Size\n",
      "      25/30         0G     0.5293     0.7526       1.07        101        640: 100%|██████████| 250/250 [1:54:36<00:00,\n",
      "                 Class     Images  Instances      Box(P          R      mAP50  mAP50-95): 100%|██████████| 32/32 [11:53\n",
      "                   all       3999       6224      0.702      0.663      0.718      0.622\n",
      "\n",
      "      Epoch    GPU_mem   box_loss   cls_loss   dfl_loss  Instances       Size\n",
      "      26/30         0G     0.5145     0.7284      1.056         95        640: 100%|██████████| 250/250 [1:54:28<00:00,\n",
      "                 Class     Images  Instances      Box(P          R      mAP50  mAP50-95): 100%|██████████| 32/32 [11:48\n",
      "                   all       3999       6224      0.748      0.645      0.719      0.626\n",
      "\n",
      "      Epoch    GPU_mem   box_loss   cls_loss   dfl_loss  Instances       Size\n",
      "      27/30         0G     0.4998      0.703      1.047        103        640: 100%|██████████| 250/250 [1:54:59<00:00,\n",
      "                 Class     Images  Instances      Box(P          R      mAP50  mAP50-95): 100%|██████████| 32/32 [11:51\n",
      "                   all       3999       6224      0.706      0.674      0.732      0.638\n",
      "\n",
      "      Epoch    GPU_mem   box_loss   cls_loss   dfl_loss  Instances       Size\n",
      "      28/30         0G     0.4838     0.6647      1.037         96        640: 100%|██████████| 250/250 [1:54:44<00:00,\n"
     ]
    },
    {
     "name": "stderr",
     "output_type": "stream",
     "text": [
      "                 Class     Images  Instances      Box(P          R      mAP50  mAP50-95): 100%|██████████| 32/32 [11:47\n",
      "                   all       3999       6224      0.771      0.653      0.743      0.648\n",
      "\n",
      "      Epoch    GPU_mem   box_loss   cls_loss   dfl_loss  Instances       Size\n",
      "      29/30         0G     0.4854     0.6103     0.9936        103        640:   0%|          | 1/250 [00:28<1:57:25, 2"
     ]
    }
   ],
   "source": [
    "#Train the/model\n",
    "model=YOLO(\"yolov8n.pt\")\n",
    "model.train(data=\"C:/Users/seifw/Clothes-Detection-1/data.yaml\",epochs=30,batch=64)"
   ]
  },
  {
   "cell_type": "code",
   "execution_count": 2,
   "id": "2d074378",
   "metadata": {},
   "outputs": [
    {
     "name": "stderr",
     "output_type": "stream",
     "text": [
      "Ultralytics YOLOv8.0.20  Python-3.9.0 torch-1.13.1+cpu CPU\n",
      "Model summary (fused): 168 layers, 3008183 parameters, 0 gradients, 8.1 GFLOPs\n",
      "\u001b[34m\u001b[1mval: \u001b[0mScanning G:\\Sherif\\College\\Graduation Project\\Clothes-Detection-1\\test\\labels... 3999 images, 8 backgrounds, 0 cor\u001b[0m\n",
      "\u001b[34m\u001b[1mval: \u001b[0mNew cache created: G:\\Sherif\\College\\Graduation Project\\Clothes-Detection-1\\test\\labels.cache\n",
      "                 Class     Images  Instances      Box(P          R      mAP50  mAP50-95): 100%|██████████| 250/250 [18:\n",
      "                   all       3999       6224      0.752      0.665      0.743      0.648\n",
      "    long_sleeved_dress       3999        212      0.637      0.509       0.64      0.573\n",
      "  long_sleeved_outwear       3999        211      0.628      0.687      0.685      0.587\n",
      "    long_sleeved_shirt       3999        689      0.693      0.775      0.813      0.688\n",
      "   short_sleeved_dress       3999        395      0.662      0.715      0.762      0.694\n",
      " short_sleeved_outwear       3999         15      0.845        0.2      0.339      0.294\n",
      "   short_sleeved_shirt       3999       1481      0.871      0.875      0.941      0.865\n",
      "                shorts       3999        424      0.916      0.767      0.891      0.756\n",
      "                 skirt       3999        816      0.821      0.846        0.9      0.804\n",
      "                 sling       3999         51      0.707      0.379      0.508      0.407\n",
      "           sling_dress       3999        154      0.644      0.564      0.665      0.575\n",
      "              trousers       3999       1082      0.872      0.897      0.943       0.81\n",
      "                  vest       3999        258      0.764      0.664      0.757      0.642\n",
      "            vest_dress       3999        436      0.722      0.761      0.815      0.728\n",
      "Speed: 3.0ms pre-process, 261.6ms inference, 0.0ms loss, 1.2ms post-process per image\n"
     ]
    }
   ],
   "source": [
    "#Validate the model\n",
    "new_model=YOLO(\"G:/Sherif/College/Graduation Project/runs/detect/train4/weights/best.pt\")\n",
    "metrics = new_model.val(data=\"G:/Sherif/College/Graduation Project/Clothes-Detection-1/data.yaml\")"
   ]
  },
  {
   "cell_type": "code",
   "execution_count": 42,
   "id": "67d0717b",
   "metadata": {},
   "outputs": [
    {
     "name": "stderr",
     "output_type": "stream",
     "text": [
      "Ultralytics YOLOv8.0.20  Python-3.9.0 torch-1.13.1+cpu CPU\n",
      "Model summary (fused): 168 layers, 3008183 parameters, 0 gradients, 8.1 GFLOPs\n",
      "Results saved to \u001b[1mruns\\detect\\predict4\u001b[0m\n"
     ]
    }
   ],
   "source": [
    "#predict the model\n",
    "new_model=YOLO(\"G:/Sherif/College/Graduation Project/runs/detect/train4/weights/best.pt\")\n",
    "results = new_model.predict(source=\"G:/Sherif/College/Graduation Project/photos\", save=True)"
   ]
  },
  {
   "cell_type": "code",
   "execution_count": 28,
   "id": "42db43da",
   "metadata": {},
   "outputs": [
    {
     "name": "stderr",
     "output_type": "stream",
     "text": [
      "Ultralytics YOLOv8.0.20  Python-3.9.0 torch-1.13.1+cpu CPU\n",
      "Model summary (fused): 168 layers, 3008183 parameters, 0 gradients, 8.1 GFLOPs\n",
      "\n",
      "\u001b[34m\u001b[1mPyTorch:\u001b[0m starting from G:\\Sherif\\College\\Graduation Project\\runs\\detect\\train4\\weights\\best.pt with output shape (1, 17, 8400) (23.4 MB)\n",
      "\n",
      "\u001b[34m\u001b[1mONNX:\u001b[0m starting export with onnx 1.13.1...\n",
      "\u001b[34m\u001b[1mONNX:\u001b[0m export success  2.0s, saved as G:\\Sherif\\College\\Graduation Project\\runs\\detect\\train4\\weights\\best.onnx (11.7 MB)\n",
      "\n",
      "Export complete (2.7s)\n",
      "Results saved to \u001b[1mG:\\Sherif\\College\\Graduation Project\\runs\\detect\\train4\\weights\u001b[0m\n",
      "Predict:         yolo task=detect mode=predict model=G:\\Sherif\\College\\Graduation Project\\runs\\detect\\train4\\weights\\best.onnx -WARNING  not yet supported for YOLOv8 exported models\n",
      "Validate:        yolo task=detect mode=val model=G:\\Sherif\\College\\Graduation Project\\runs\\detect\\train4\\weights\\best.onnx -WARNING  not yet supported for YOLOv8 exported models\n",
      "Visualize:       https://netron.app\n"
     ]
    },
    {
     "ename": "NotImplementedError",
     "evalue": "'.onnx' model loading not implemented",
     "output_type": "error",
     "traceback": [
      "\u001b[1;31m---------------------------------------------------------------------------\u001b[0m",
      "\u001b[1;31mNotImplementedError\u001b[0m                       Traceback (most recent call last)",
      "Cell \u001b[1;32mIn[28], line 4\u001b[0m\n\u001b[0;32m      2\u001b[0m new_model\u001b[38;5;241m=\u001b[39mYOLO(\u001b[38;5;124m\"\u001b[39m\u001b[38;5;124mG:/Sherif/College/Graduation Project/runs/detect/train4/weights/best.pt\u001b[39m\u001b[38;5;124m\"\u001b[39m)\n\u001b[0;32m      3\u001b[0m success \u001b[38;5;241m=\u001b[39m new_model\u001b[38;5;241m.\u001b[39mexport(\u001b[38;5;28mformat\u001b[39m\u001b[38;5;241m=\u001b[39m\u001b[38;5;124m\"\u001b[39m\u001b[38;5;124monnx\u001b[39m\u001b[38;5;124m\"\u001b[39m)\n\u001b[1;32m----> 4\u001b[0m onnx_model\u001b[38;5;241m=\u001b[39m\u001b[43mYOLO\u001b[49m\u001b[43m(\u001b[49m\u001b[38;5;124;43m\"\u001b[39;49m\u001b[38;5;124;43mG:/Sherif/College/Graduation Project/runs/detect/train4/weights/best.onnx\u001b[39;49m\u001b[38;5;124;43m\"\u001b[39;49m\u001b[43m)\u001b[49m\n\u001b[0;32m      5\u001b[0m success \u001b[38;5;241m=\u001b[39m onnx_model\u001b[38;5;241m.\u001b[39mexport(\u001b[38;5;28mformat\u001b[39m\u001b[38;5;241m=\u001b[39m\u001b[38;5;124m\"\u001b[39m\u001b[38;5;124mtflite\u001b[39m\u001b[38;5;124m\"\u001b[39m)\n",
      "File \u001b[1;32m~\\AppData\\Local\\Programs\\Python\\Python39\\lib\\site-packages\\ultralytics\\yolo\\engine\\model.py:62\u001b[0m, in \u001b[0;36mYOLO.__init__\u001b[1;34m(self, model, type)\u001b[0m\n\u001b[0;32m     60\u001b[0m     {\u001b[38;5;124m'\u001b[39m\u001b[38;5;124m.pt\u001b[39m\u001b[38;5;124m'\u001b[39m: \u001b[38;5;28mself\u001b[39m\u001b[38;5;241m.\u001b[39m_load, \u001b[38;5;124m'\u001b[39m\u001b[38;5;124m.yaml\u001b[39m\u001b[38;5;124m'\u001b[39m: \u001b[38;5;28mself\u001b[39m\u001b[38;5;241m.\u001b[39m_new}[suffix](model)\n\u001b[0;32m     61\u001b[0m \u001b[38;5;28;01melse\u001b[39;00m:\n\u001b[1;32m---> 62\u001b[0m     \u001b[38;5;28;01mraise\u001b[39;00m \u001b[38;5;167;01mNotImplementedError\u001b[39;00m(\u001b[38;5;124mf\u001b[39m\u001b[38;5;124m\"\u001b[39m\u001b[38;5;124m'\u001b[39m\u001b[38;5;132;01m{\u001b[39;00msuffix\u001b[38;5;132;01m}\u001b[39;00m\u001b[38;5;124m'\u001b[39m\u001b[38;5;124m model loading not implemented\u001b[39m\u001b[38;5;124m\"\u001b[39m)\n",
      "\u001b[1;31mNotImplementedError\u001b[0m: '.onnx' model loading not implemented"
     ]
    }
   ],
   "source": [
    " # export the model to ONNX format\n",
    "new_model=YOLO(\"G:/Sherif/College/Graduation Project/runs/detect/train4/weights/best.pt\")\n",
    "success = new_model.export(format=\"onnx\")"
   ]
  },
  {
   "cell_type": "code",
   "execution_count": null,
   "id": "26955dd9",
   "metadata": {
    "scrolled": true
   },
   "outputs": [],
   "source": []
  },
  {
   "cell_type": "code",
   "execution_count": null,
   "id": "70c27d00",
   "metadata": {},
   "outputs": [],
   "source": []
  },
  {
   "cell_type": "code",
   "execution_count": null,
   "id": "db5d9e2f",
   "metadata": {},
   "outputs": [],
   "source": []
  }
 ],
 "metadata": {
  "kernelspec": {
   "display_name": "Python 3 (ipykernel)",
   "language": "python",
   "name": "python3"
  },
  "language_info": {
   "codemirror_mode": {
    "name": "ipython",
    "version": 3
   },
   "file_extension": ".py",
   "mimetype": "text/x-python",
   "name": "python",
   "nbconvert_exporter": "python",
   "pygments_lexer": "ipython3",
   "version": "3.9.0"
  }
 },
 "nbformat": 4,
 "nbformat_minor": 5
}
