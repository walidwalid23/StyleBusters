{
 "cells": [
  {
   "cell_type": "markdown",
   "id": "71c6e7b4",
   "metadata": {},
   "source": [
    "# Object Detection"
   ]
  },
  {
   "cell_type": "code",
   "execution_count": 17,
   "id": "64513051",
   "metadata": {},
   "outputs": [],
   "source": [
    "import os\n",
    "os.environ['TF_CPP_MIN_LOG_LEVEL'] = '2'    # Suppress TensorFlow logging (1)\n",
    "import pathlib\n",
    "import tensorflow as tf\n",
    "import tensorflow_hub as hub\n",
    "import cv2\n",
    "import pandas as pd\n",
    "import base64\n",
    "import io\n",
    "import math \n",
    "from math import sqrt\n",
    "import argparse\n",
    "import time\n",
    "from object_detection.utils import label_map_util\n",
    "from object_detection.utils import visualization_utils as viz_utils\n",
    "import numpy as np\n",
    "from PIL import Image\n",
    "import matplotlib.pyplot as plt\n",
    "import warnings\n",
    "warnings.filterwarnings('ignore')  # Suppress Matplotlib warnings\n",
    "%matplotlib inline             "
   ]
  },
  {
   "cell_type": "markdown",
   "id": "0253a352",
   "metadata": {},
   "source": [
    "## Paths "
   ]
  },
  {
   "cell_type": "code",
   "execution_count": 18,
   "id": "1f282000",
   "metadata": {},
   "outputs": [],
   "source": [
    "# PROVIDE PATH TO IMAGE DIRECTORY\n",
    "IMAGE_PATHS = 'C:\\\\Users\\\\DELL\\\\Downloads\\\\shortshirt.jpg'\n",
    "\n",
    "# PROVIDE PATH TO MODEL DIRECTORY\n",
    "PATH_TO_MODEL_DIR = 'E:\\\\Graduation Project\\\\IMPLEMENTATION\\\\tensorflow\\\\workspace\\\\training_demo\\\\exported-models\\\\my_model'\n",
    "\n",
    "# PROVIDE PATH TO LABEL MAP\n",
    "PATH_TO_LABELS = 'E:\\\\Graduation Project\\\\IMPLEMENTATION\\\\tensorflow\\\\workspace\\\\training_demo\\\\annotations\\\\label_map.pbtxt'"
   ]
  },
  {
   "cell_type": "markdown",
   "id": "1a9dce6e",
   "metadata": {},
   "source": [
    "# Load The Model"
   ]
  },
  {
   "cell_type": "code",
   "execution_count": 19,
   "id": "1d6b1706",
   "metadata": {},
   "outputs": [
    {
     "name": "stdout",
     "output_type": "stream",
     "text": [
      "Loading model...Done! Took 14.415225505828857 seconds\n",
      "Running inference for C:\\Users\\DELL\\Downloads\\shortshirt.jpg... "
     ]
    }
   ],
   "source": [
    "# PROVIDE THE MINIMUM CONFIDENCE THRESHOLD\n",
    "MIN_CONF_THRESH = float(0.60)\n",
    "\n",
    "# LOAD THE MODEL\n",
    "\n",
    "PATH_TO_SAVED_MODEL = PATH_TO_MODEL_DIR + \"\\\\saved_model\"\n",
    "\n",
    "print('Loading model...', end='')\n",
    "start_time = time.time()\n",
    "\n",
    "# LOAD SAVED MODEL AND BUILD DETECTION FUNCTION\n",
    "detect_fn = tf.saved_model.load(PATH_TO_SAVED_MODEL)\n",
    "\n",
    "end_time = time.time()\n",
    "elapsed_time = end_time - start_time\n",
    "print('Done! Took {} seconds'.format(elapsed_time))\n",
    "\n",
    "# LOAD LABEL MAP DATA FOR PLOTTING\n",
    "category_index = label_map_util.create_category_index_from_labelmap(PATH_TO_LABELS,\n",
    "                                                                    use_display_name=True)\n",
    "\n",
    "def load_image_into_numpy_array(path):\n",
    "    \"\"\"Load an image from file into a numpy array.\n",
    "    Puts image into numpy array to feed into tensorflow graph.\n",
    "    Note that by convention we put it into a numpy array with shape\n",
    "    (height, width, channels), where channels=3 for RGB.\n",
    "    Args:\n",
    "      path: the file path to the image\n",
    "    Returns:\n",
    "      uint8 numpy array with shape (img_height, img_width, 3)\n",
    "    \"\"\"\n",
    "    return np.array(Image.open(path))\n",
    "\n",
    "print('Running inference for {}... '.format(IMAGE_PATHS), end='')\n"
   ]
  },
  {
   "cell_type": "markdown",
   "id": "36ccef5b",
   "metadata": {},
   "source": [
    "## Visualize The Output"
   ]
  },
  {
   "cell_type": "markdown",
   "id": "2c73867e",
   "metadata": {},
   "source": [
    "# Image Similarity"
   ]
  },
  {
   "cell_type": "markdown",
   "id": "1eac9c79",
   "metadata": {},
   "source": [
    "### Loading Pre-Trained Feature Extraction Model"
   ]
  },
  {
   "cell_type": "markdown",
   "id": "30b68d80",
   "metadata": {},
   "source": [
    "### Converting Images To Feature Vectors (Embeddings)"
   ]
  },
  {
   "cell_type": "markdown",
   "id": "cecae80e",
   "metadata": {},
   "source": [
    "### class to find the similarity between two feature vectors "
   ]
  },
  {
   "cell_type": "markdown",
   "id": "b4ab8d49",
   "metadata": {},
   "source": [
    "### Path Of Main Uploaded Image"
   ]
  },
  {
   "cell_type": "markdown",
   "id": "9a75ba90",
   "metadata": {},
   "source": [
    "### getting feature vector of the main uploaded image "
   ]
  },
  {
   "cell_type": "markdown",
   "id": "fbda5d80",
   "metadata": {},
   "source": [
    "### looping through images in the dataset and comparing each image feature vector with the main image feature vector"
   ]
  },
  {
   "cell_type": "code",
   "execution_count": null,
   "id": "7607d3cd",
   "metadata": {},
   "outputs": [],
   "source": []
  }
 ],
 "metadata": {
  "kernelspec": {
   "display_name": "Python 3 (ipykernel)",
   "language": "python",
   "name": "python3"
  },
  "language_info": {
   "codemirror_mode": {
    "name": "ipython",
    "version": 3
   },
   "file_extension": ".py",
   "mimetype": "text/x-python",
   "name": "python",
   "nbconvert_exporter": "python",
   "pygments_lexer": "ipython3",
   "version": "3.9.0"
  }
 },
 "nbformat": 4,
 "nbformat_minor": 5
}
